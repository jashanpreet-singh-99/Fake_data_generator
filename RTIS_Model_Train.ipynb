{
  "nbformat": 4,
  "nbformat_minor": 0,
  "metadata": {
    "colab": {
      "name": "RTIS_Model_Train.ipynb",
      "provenance": [],
      "collapsed_sections": [
        "dsBf1766kZxQ"
      ]
    },
    "kernelspec": {
      "name": "python3",
      "display_name": "Python 3"
    },
    "language_info": {
      "name": "python"
    }
  },
  "cells": [
    {
      "cell_type": "markdown",
      "source": [
        "# Import Libraries\n",
        "\n"
      ],
      "metadata": {
        "id": "IdFyxLmQHsa3"
      }
    },
    {
      "cell_type": "code",
      "source": [
        "import pandas as pd\n",
        "import os\n",
        "import numpy as np"
      ],
      "metadata": {
        "id": "c36aqyk-Htz3"
      },
      "execution_count": null,
      "outputs": []
    },
    {
      "cell_type": "markdown",
      "source": [
        "# Importing Local Database_files\n",
        "\n",
        "##### Use the files names as defined else u will need to adjust those.\n",
        "##### For training \"**data_augmented.csv**\"\n",
        "##### \"**Route_\\<route_number\\>_complete.xlsx**\"\n",
        "###### Also remember to upload these files to the notebook."
      ],
      "metadata": {
        "id": "zH9PIvjQH63x"
      }
    },
    {
      "cell_type": "markdown",
      "source": [
        "## Paths"
      ],
      "metadata": {
        "id": "fK1bKRAqIz_3"
      }
    },
    {
      "cell_type": "code",
      "source": [
        "df_1_path  = os.path.join(os.getcwd(), 'Route_1_complete.xlsx')\n",
        "df_2_path  = os.path.join(os.getcwd(), 'Route_2_complete.xlsx')\n",
        "df_ag_path = os.path.join(os.getcwd(), 'data_augmented.csv')"
      ],
      "metadata": {
        "id": "cCxhhBasH43q"
      },
      "execution_count": null,
      "outputs": []
    },
    {
      "cell_type": "markdown",
      "source": [
        "## Loading Data Frame from paths"
      ],
      "metadata": {
        "id": "E0WYgtG0cIMT"
      }
    },
    {
      "cell_type": "code",
      "source": [
        "df_1_vl = pd.read_excel(df_1_path, sheet_name='VL')\n",
        "df_1_l = pd.read_excel(df_1_path, sheet_name='L').iloc[1:,:]\n",
        "df_1_m = pd.read_excel(df_1_path, sheet_name='M').iloc[1:,:]\n",
        "df_1_h = pd.read_excel(df_1_path, sheet_name='H').iloc[1:,:]\n",
        "df_1_vh = pd.read_excel(df_1_path, sheet_name='VH').iloc[1:,:]\n",
        "\n",
        "print(\"Dataframes Meta\")\n",
        "print(\"VL :\", len(df_1_vl))\n",
        "print(\"L  :\", len(df_1_l))\n",
        "print(\"M  :\", len(df_1_m))\n",
        "print(\"H  :\", len(df_1_h))\n",
        "print(\"VH :\", len(df_1_vh))\n",
        "\n",
        "df_list = [df_1_vl, df_1_l, df_1_m, df_1_h, df_1_vh]\n",
        "\n",
        "print(\"Roue 2\")\n",
        "df_2_vl = pd.read_excel(df_2_path, sheet_name='VL').iloc[1:,:]\n",
        "df_2_l = pd.read_excel(df_2_path, sheet_name='L').iloc[1:,:]\n",
        "df_2_m = pd.read_excel(df_2_path, sheet_name='M').iloc[1:,:]\n",
        "df_2_h = pd.read_excel(df_2_path, sheet_name='H').iloc[1:,:]\n",
        "df_2_vh = pd.read_excel(df_2_path, sheet_name='VH').iloc[1:,:]\n",
        "\n",
        "print(\"Dataframes Meta\")\n",
        "print(\"VL :\", len(df_2_vl))\n",
        "print(\"L  :\", len(df_2_l))\n",
        "print(\"M  :\", len(df_2_m))\n",
        "print(\"H  :\", len(df_2_h))\n",
        "print(\"VH :\", len(df_2_vh))\n",
        "\n",
        "df_2_list = [df_2_vl, df_2_l, df_2_m, df_2_h, df_2_vh]\n",
        "\n",
        "df_ag = pd.read_csv(df_ag_path, index_col=0)\n",
        "print(\"Augmented data : \", len(df_ag))"
      ],
      "metadata": {
        "colab": {
          "base_uri": "https://localhost:8080/"
        },
        "id": "wSBMW34acG5I",
        "outputId": "5c3895b2-bf45-4e59-bb26-bd7a731eec84"
      },
      "execution_count": 72,
      "outputs": [
        {
          "output_type": "stream",
          "name": "stdout",
          "text": [
            "Dataframes Meta\n",
            "VL : 34\n",
            "L  : 34\n",
            "M  : 34\n",
            "H  : 34\n",
            "VH : 34\n",
            "Roue 2\n",
            "Dataframes Meta\n",
            "VL : 26\n",
            "L  : 26\n",
            "M  : 26\n",
            "H  : 26\n",
            "VH : 26\n",
            "Augmented data :  5009\n"
          ]
        }
      ]
    },
    {
      "cell_type": "markdown",
      "source": [
        "## Adjust column Names"
      ],
      "metadata": {
        "id": "VI8dKg9GfI49"
      }
    },
    {
      "cell_type": "code",
      "source": [
        "columns_name = ['Loc', 'Cam', 'Police', 'Visibility', 'Population', 'Safety', 'Lng', 'Lat']\n",
        "\n",
        "for x in df_list:\n",
        "  x.columns = columns_name\n",
        "\n",
        "for x in df_2_list:\n",
        "  x.columns = columns_name\n",
        "\n",
        "df_1_l.head(5)"
      ],
      "metadata": {
        "colab": {
          "base_uri": "https://localhost:8080/",
          "height": 206
        },
        "id": "gDZCpp8jcvQT",
        "outputId": "9ef91bbe-86cf-4985-e497-0a100b09202c"
      },
      "execution_count": null,
      "outputs": [
        {
          "output_type": "execute_result",
          "data": {
            "text/plain": [
              "                                   Loc    Cam Police Visibility Population  \\\n",
              "1                            Bus Stand    YES    YES          1          2   \n",
              "2  Shri Aurobindo International School    YES    YES          1          2   \n",
              "3                Saanjh Kendra Patiala  MAYBE     NO          1          1   \n",
              "4           Police Station Lahori Gate    YES    YES          1          2   \n",
              "5                        Sirhindi Gate    YES  MAYBE          1          1   \n",
              "\n",
              "  Safety        Lng        Lat  \n",
              "1      4  76.403865  30.338796  \n",
              "2      3  76.404373  30.338264  \n",
              "3      1  76.405234  30.337341  \n",
              "4      3  76.406021  30.336605  \n",
              "5      2  76.407053  30.335499  "
            ],
            "text/html": [
              "\n",
              "  <div id=\"df-6ec9e41d-43db-4d7a-a04f-9f2b84161069\">\n",
              "    <div class=\"colab-df-container\">\n",
              "      <div>\n",
              "<style scoped>\n",
              "    .dataframe tbody tr th:only-of-type {\n",
              "        vertical-align: middle;\n",
              "    }\n",
              "\n",
              "    .dataframe tbody tr th {\n",
              "        vertical-align: top;\n",
              "    }\n",
              "\n",
              "    .dataframe thead th {\n",
              "        text-align: right;\n",
              "    }\n",
              "</style>\n",
              "<table border=\"1\" class=\"dataframe\">\n",
              "  <thead>\n",
              "    <tr style=\"text-align: right;\">\n",
              "      <th></th>\n",
              "      <th>Loc</th>\n",
              "      <th>Cam</th>\n",
              "      <th>Police</th>\n",
              "      <th>Visibility</th>\n",
              "      <th>Population</th>\n",
              "      <th>Safety</th>\n",
              "      <th>Lng</th>\n",
              "      <th>Lat</th>\n",
              "    </tr>\n",
              "  </thead>\n",
              "  <tbody>\n",
              "    <tr>\n",
              "      <th>1</th>\n",
              "      <td>Bus Stand</td>\n",
              "      <td>YES</td>\n",
              "      <td>YES</td>\n",
              "      <td>1</td>\n",
              "      <td>2</td>\n",
              "      <td>4</td>\n",
              "      <td>76.403865</td>\n",
              "      <td>30.338796</td>\n",
              "    </tr>\n",
              "    <tr>\n",
              "      <th>2</th>\n",
              "      <td>Shri Aurobindo International School</td>\n",
              "      <td>YES</td>\n",
              "      <td>YES</td>\n",
              "      <td>1</td>\n",
              "      <td>2</td>\n",
              "      <td>3</td>\n",
              "      <td>76.404373</td>\n",
              "      <td>30.338264</td>\n",
              "    </tr>\n",
              "    <tr>\n",
              "      <th>3</th>\n",
              "      <td>Saanjh Kendra Patiala</td>\n",
              "      <td>MAYBE</td>\n",
              "      <td>NO</td>\n",
              "      <td>1</td>\n",
              "      <td>1</td>\n",
              "      <td>1</td>\n",
              "      <td>76.405234</td>\n",
              "      <td>30.337341</td>\n",
              "    </tr>\n",
              "    <tr>\n",
              "      <th>4</th>\n",
              "      <td>Police Station Lahori Gate</td>\n",
              "      <td>YES</td>\n",
              "      <td>YES</td>\n",
              "      <td>1</td>\n",
              "      <td>2</td>\n",
              "      <td>3</td>\n",
              "      <td>76.406021</td>\n",
              "      <td>30.336605</td>\n",
              "    </tr>\n",
              "    <tr>\n",
              "      <th>5</th>\n",
              "      <td>Sirhindi Gate</td>\n",
              "      <td>YES</td>\n",
              "      <td>MAYBE</td>\n",
              "      <td>1</td>\n",
              "      <td>1</td>\n",
              "      <td>2</td>\n",
              "      <td>76.407053</td>\n",
              "      <td>30.335499</td>\n",
              "    </tr>\n",
              "  </tbody>\n",
              "</table>\n",
              "</div>\n",
              "      <button class=\"colab-df-convert\" onclick=\"convertToInteractive('df-6ec9e41d-43db-4d7a-a04f-9f2b84161069')\"\n",
              "              title=\"Convert this dataframe to an interactive table.\"\n",
              "              style=\"display:none;\">\n",
              "        \n",
              "  <svg xmlns=\"http://www.w3.org/2000/svg\" height=\"24px\"viewBox=\"0 0 24 24\"\n",
              "       width=\"24px\">\n",
              "    <path d=\"M0 0h24v24H0V0z\" fill=\"none\"/>\n",
              "    <path d=\"M18.56 5.44l.94 2.06.94-2.06 2.06-.94-2.06-.94-.94-2.06-.94 2.06-2.06.94zm-11 1L8.5 8.5l.94-2.06 2.06-.94-2.06-.94L8.5 2.5l-.94 2.06-2.06.94zm10 10l.94 2.06.94-2.06 2.06-.94-2.06-.94-.94-2.06-.94 2.06-2.06.94z\"/><path d=\"M17.41 7.96l-1.37-1.37c-.4-.4-.92-.59-1.43-.59-.52 0-1.04.2-1.43.59L10.3 9.45l-7.72 7.72c-.78.78-.78 2.05 0 2.83L4 21.41c.39.39.9.59 1.41.59.51 0 1.02-.2 1.41-.59l7.78-7.78 2.81-2.81c.8-.78.8-2.07 0-2.86zM5.41 20L4 18.59l7.72-7.72 1.47 1.35L5.41 20z\"/>\n",
              "  </svg>\n",
              "      </button>\n",
              "      \n",
              "  <style>\n",
              "    .colab-df-container {\n",
              "      display:flex;\n",
              "      flex-wrap:wrap;\n",
              "      gap: 12px;\n",
              "    }\n",
              "\n",
              "    .colab-df-convert {\n",
              "      background-color: #E8F0FE;\n",
              "      border: none;\n",
              "      border-radius: 50%;\n",
              "      cursor: pointer;\n",
              "      display: none;\n",
              "      fill: #1967D2;\n",
              "      height: 32px;\n",
              "      padding: 0 0 0 0;\n",
              "      width: 32px;\n",
              "    }\n",
              "\n",
              "    .colab-df-convert:hover {\n",
              "      background-color: #E2EBFA;\n",
              "      box-shadow: 0px 1px 2px rgba(60, 64, 67, 0.3), 0px 1px 3px 1px rgba(60, 64, 67, 0.15);\n",
              "      fill: #174EA6;\n",
              "    }\n",
              "\n",
              "    [theme=dark] .colab-df-convert {\n",
              "      background-color: #3B4455;\n",
              "      fill: #D2E3FC;\n",
              "    }\n",
              "\n",
              "    [theme=dark] .colab-df-convert:hover {\n",
              "      background-color: #434B5C;\n",
              "      box-shadow: 0px 1px 3px 1px rgba(0, 0, 0, 0.15);\n",
              "      filter: drop-shadow(0px 1px 2px rgba(0, 0, 0, 0.3));\n",
              "      fill: #FFFFFF;\n",
              "    }\n",
              "  </style>\n",
              "\n",
              "      <script>\n",
              "        const buttonEl =\n",
              "          document.querySelector('#df-6ec9e41d-43db-4d7a-a04f-9f2b84161069 button.colab-df-convert');\n",
              "        buttonEl.style.display =\n",
              "          google.colab.kernel.accessAllowed ? 'block' : 'none';\n",
              "\n",
              "        async function convertToInteractive(key) {\n",
              "          const element = document.querySelector('#df-6ec9e41d-43db-4d7a-a04f-9f2b84161069');\n",
              "          const dataTable =\n",
              "            await google.colab.kernel.invokeFunction('convertToInteractive',\n",
              "                                                     [key], {});\n",
              "          if (!dataTable) return;\n",
              "\n",
              "          const docLinkHtml = 'Like what you see? Visit the ' +\n",
              "            '<a target=\"_blank\" href=https://colab.research.google.com/notebooks/data_table.ipynb>data table notebook</a>'\n",
              "            + ' to learn more about interactive tables.';\n",
              "          element.innerHTML = '';\n",
              "          dataTable['output_type'] = 'display_data';\n",
              "          await google.colab.output.renderOutput(dataTable, element);\n",
              "          const docLink = document.createElement('div');\n",
              "          docLink.innerHTML = docLinkHtml;\n",
              "          element.appendChild(docLink);\n",
              "        }\n",
              "      </script>\n",
              "    </div>\n",
              "  </div>\n",
              "  "
            ]
          },
          "metadata": {},
          "execution_count": 35
        }
      ]
    },
    {
      "cell_type": "markdown",
      "source": [
        "## Transform Literals to Numerical"
      ],
      "metadata": {
        "id": "siuBFepPgfTM"
      }
    },
    {
      "cell_type": "code",
      "source": [
        "dict_l = {'NO':0, 'MAYBE':1, 'YES':2}\n",
        "def get_val(val):\n",
        "  if val in range(0,3):\n",
        "    return val\n",
        "  return dict_l[val]\n",
        "\n",
        "dict_v = {'VL':0, 'L':1, 'M':2, 'H':3, 'VH':4}\n",
        "def get_v_val(val):\n",
        "  if val in range(0,5):\n",
        "    return val\n",
        "  return dict_v[val]\n",
        "\n",
        "for x in df_list:\n",
        "  x['Cam']        = x['Cam'].apply(get_val)\n",
        "  x['Police']     = x['Police'].apply(get_val)\n",
        "  x['Visibility'] = x['Visibility'].apply(get_v_val)\n",
        "\n",
        "for x in df_2_list:\n",
        "  x['Cam']        = x['Cam'].apply(get_val)\n",
        "  x['Police']     = x['Police'].apply(get_val)\n",
        "  x['Visibility'] = x['Visibility'].apply(get_v_val)\n",
        "\n",
        "df_1_vl.head(5)"
      ],
      "metadata": {
        "colab": {
          "base_uri": "https://localhost:8080/",
          "height": 206
        },
        "id": "rNJh9-doeu-e",
        "outputId": "3f657306-8efc-4cdc-a93a-ab25ea3df4ee"
      },
      "execution_count": null,
      "outputs": [
        {
          "output_type": "execute_result",
          "data": {
            "text/plain": [
              "                                   Loc  Cam  Police  Visibility  Population  \\\n",
              "0                            Bus Stand    2       2           0           2   \n",
              "1  Shri Aurobindo International School    2       2           0           1   \n",
              "2                Saanjh Kendra Patiala    1       0           0           0   \n",
              "3           Police Station Lahori Gate    2       2           0           2   \n",
              "4                        Sirhindi Gate    2       1           0           1   \n",
              "\n",
              "   Safety        Lng        Lat  \n",
              "0       3  76.403865  30.338796  \n",
              "1       2  76.404373  30.338264  \n",
              "2       0  76.405234  30.337341  \n",
              "3       2  76.406021  30.336605  \n",
              "4       1  76.407053  30.335499  "
            ],
            "text/html": [
              "\n",
              "  <div id=\"df-c2d94da4-d15b-487b-847d-d338d4ebdb6c\">\n",
              "    <div class=\"colab-df-container\">\n",
              "      <div>\n",
              "<style scoped>\n",
              "    .dataframe tbody tr th:only-of-type {\n",
              "        vertical-align: middle;\n",
              "    }\n",
              "\n",
              "    .dataframe tbody tr th {\n",
              "        vertical-align: top;\n",
              "    }\n",
              "\n",
              "    .dataframe thead th {\n",
              "        text-align: right;\n",
              "    }\n",
              "</style>\n",
              "<table border=\"1\" class=\"dataframe\">\n",
              "  <thead>\n",
              "    <tr style=\"text-align: right;\">\n",
              "      <th></th>\n",
              "      <th>Loc</th>\n",
              "      <th>Cam</th>\n",
              "      <th>Police</th>\n",
              "      <th>Visibility</th>\n",
              "      <th>Population</th>\n",
              "      <th>Safety</th>\n",
              "      <th>Lng</th>\n",
              "      <th>Lat</th>\n",
              "    </tr>\n",
              "  </thead>\n",
              "  <tbody>\n",
              "    <tr>\n",
              "      <th>0</th>\n",
              "      <td>Bus Stand</td>\n",
              "      <td>2</td>\n",
              "      <td>2</td>\n",
              "      <td>0</td>\n",
              "      <td>2</td>\n",
              "      <td>3</td>\n",
              "      <td>76.403865</td>\n",
              "      <td>30.338796</td>\n",
              "    </tr>\n",
              "    <tr>\n",
              "      <th>1</th>\n",
              "      <td>Shri Aurobindo International School</td>\n",
              "      <td>2</td>\n",
              "      <td>2</td>\n",
              "      <td>0</td>\n",
              "      <td>1</td>\n",
              "      <td>2</td>\n",
              "      <td>76.404373</td>\n",
              "      <td>30.338264</td>\n",
              "    </tr>\n",
              "    <tr>\n",
              "      <th>2</th>\n",
              "      <td>Saanjh Kendra Patiala</td>\n",
              "      <td>1</td>\n",
              "      <td>0</td>\n",
              "      <td>0</td>\n",
              "      <td>0</td>\n",
              "      <td>0</td>\n",
              "      <td>76.405234</td>\n",
              "      <td>30.337341</td>\n",
              "    </tr>\n",
              "    <tr>\n",
              "      <th>3</th>\n",
              "      <td>Police Station Lahori Gate</td>\n",
              "      <td>2</td>\n",
              "      <td>2</td>\n",
              "      <td>0</td>\n",
              "      <td>2</td>\n",
              "      <td>2</td>\n",
              "      <td>76.406021</td>\n",
              "      <td>30.336605</td>\n",
              "    </tr>\n",
              "    <tr>\n",
              "      <th>4</th>\n",
              "      <td>Sirhindi Gate</td>\n",
              "      <td>2</td>\n",
              "      <td>1</td>\n",
              "      <td>0</td>\n",
              "      <td>1</td>\n",
              "      <td>1</td>\n",
              "      <td>76.407053</td>\n",
              "      <td>30.335499</td>\n",
              "    </tr>\n",
              "  </tbody>\n",
              "</table>\n",
              "</div>\n",
              "      <button class=\"colab-df-convert\" onclick=\"convertToInteractive('df-c2d94da4-d15b-487b-847d-d338d4ebdb6c')\"\n",
              "              title=\"Convert this dataframe to an interactive table.\"\n",
              "              style=\"display:none;\">\n",
              "        \n",
              "  <svg xmlns=\"http://www.w3.org/2000/svg\" height=\"24px\"viewBox=\"0 0 24 24\"\n",
              "       width=\"24px\">\n",
              "    <path d=\"M0 0h24v24H0V0z\" fill=\"none\"/>\n",
              "    <path d=\"M18.56 5.44l.94 2.06.94-2.06 2.06-.94-2.06-.94-.94-2.06-.94 2.06-2.06.94zm-11 1L8.5 8.5l.94-2.06 2.06-.94-2.06-.94L8.5 2.5l-.94 2.06-2.06.94zm10 10l.94 2.06.94-2.06 2.06-.94-2.06-.94-.94-2.06-.94 2.06-2.06.94z\"/><path d=\"M17.41 7.96l-1.37-1.37c-.4-.4-.92-.59-1.43-.59-.52 0-1.04.2-1.43.59L10.3 9.45l-7.72 7.72c-.78.78-.78 2.05 0 2.83L4 21.41c.39.39.9.59 1.41.59.51 0 1.02-.2 1.41-.59l7.78-7.78 2.81-2.81c.8-.78.8-2.07 0-2.86zM5.41 20L4 18.59l7.72-7.72 1.47 1.35L5.41 20z\"/>\n",
              "  </svg>\n",
              "      </button>\n",
              "      \n",
              "  <style>\n",
              "    .colab-df-container {\n",
              "      display:flex;\n",
              "      flex-wrap:wrap;\n",
              "      gap: 12px;\n",
              "    }\n",
              "\n",
              "    .colab-df-convert {\n",
              "      background-color: #E8F0FE;\n",
              "      border: none;\n",
              "      border-radius: 50%;\n",
              "      cursor: pointer;\n",
              "      display: none;\n",
              "      fill: #1967D2;\n",
              "      height: 32px;\n",
              "      padding: 0 0 0 0;\n",
              "      width: 32px;\n",
              "    }\n",
              "\n",
              "    .colab-df-convert:hover {\n",
              "      background-color: #E2EBFA;\n",
              "      box-shadow: 0px 1px 2px rgba(60, 64, 67, 0.3), 0px 1px 3px 1px rgba(60, 64, 67, 0.15);\n",
              "      fill: #174EA6;\n",
              "    }\n",
              "\n",
              "    [theme=dark] .colab-df-convert {\n",
              "      background-color: #3B4455;\n",
              "      fill: #D2E3FC;\n",
              "    }\n",
              "\n",
              "    [theme=dark] .colab-df-convert:hover {\n",
              "      background-color: #434B5C;\n",
              "      box-shadow: 0px 1px 3px 1px rgba(0, 0, 0, 0.15);\n",
              "      filter: drop-shadow(0px 1px 2px rgba(0, 0, 0, 0.3));\n",
              "      fill: #FFFFFF;\n",
              "    }\n",
              "  </style>\n",
              "\n",
              "      <script>\n",
              "        const buttonEl =\n",
              "          document.querySelector('#df-c2d94da4-d15b-487b-847d-d338d4ebdb6c button.colab-df-convert');\n",
              "        buttonEl.style.display =\n",
              "          google.colab.kernel.accessAllowed ? 'block' : 'none';\n",
              "\n",
              "        async function convertToInteractive(key) {\n",
              "          const element = document.querySelector('#df-c2d94da4-d15b-487b-847d-d338d4ebdb6c');\n",
              "          const dataTable =\n",
              "            await google.colab.kernel.invokeFunction('convertToInteractive',\n",
              "                                                     [key], {});\n",
              "          if (!dataTable) return;\n",
              "\n",
              "          const docLinkHtml = 'Like what you see? Visit the ' +\n",
              "            '<a target=\"_blank\" href=https://colab.research.google.com/notebooks/data_table.ipynb>data table notebook</a>'\n",
              "            + ' to learn more about interactive tables.';\n",
              "          element.innerHTML = '';\n",
              "          dataTable['output_type'] = 'display_data';\n",
              "          await google.colab.output.renderOutput(dataTable, element);\n",
              "          const docLink = document.createElement('div');\n",
              "          docLink.innerHTML = docLinkHtml;\n",
              "          element.appendChild(docLink);\n",
              "        }\n",
              "      </script>\n",
              "    </div>\n",
              "  </div>\n",
              "  "
            ]
          },
          "metadata": {},
          "execution_count": 36
        }
      ]
    },
    {
      "cell_type": "markdown",
      "source": [
        "# Data Split"
      ],
      "metadata": {
        "id": "dsBf1766kZxQ"
      }
    },
    {
      "cell_type": "markdown",
      "source": [
        "## Training data"
      ],
      "metadata": {
        "id": "JE0CsdNkk02U"
      }
    },
    {
      "cell_type": "code",
      "source": [
        "df_ag = df_ag.sample(frac=1).reset_index(drop=True)\n",
        "\n",
        "\n",
        "x = df_ag.iloc[:,:-1]\n",
        "y = df_ag.iloc[:,-1]\n",
        "\n",
        "print('X', x.head(5), sep='\\n')\n",
        "print('Y', y.head(5), sep='\\n')"
      ],
      "metadata": {
        "colab": {
          "base_uri": "https://localhost:8080/"
        },
        "id": "iZRLPzhJipNC",
        "outputId": "8112ddf3-5eeb-4d6c-80db-f877244d0c4e"
      },
      "execution_count": null,
      "outputs": [
        {
          "output_type": "stream",
          "name": "stdout",
          "text": [
            "X\n",
            "   Cam  Police  Visibility  Population\n",
            "0    2       2           4           2\n",
            "1    2       0           2           2\n",
            "2    0       2           3           2\n",
            "3    0       0           1           0\n",
            "4    0       0           4           2\n",
            "Y\n",
            "0    4\n",
            "1    3\n",
            "2    3\n",
            "3    0\n",
            "4    4\n",
            "Name: Safety, dtype: int64\n"
          ]
        }
      ]
    },
    {
      "cell_type": "markdown",
      "source": [
        "## Testing data"
      ],
      "metadata": {
        "id": "RVt4re2nk43x"
      }
    },
    {
      "cell_type": "code",
      "source": [
        "df = pd.concat(df_list, ignore_index=True)\n",
        "print(df.head(5))\n",
        "print(\"Test Dataset :\", len(df))\n",
        "\n",
        "x_test = df.iloc[:,1:5]\n",
        "y_test = df.iloc[:,5]\n",
        "\n",
        "print('X Test :', x_test.head(5), sep='\\n')\n",
        "print('Y Test :', y_test.head(5), sep='\\n')\n",
        "\n",
        "print(\"Route 2\")\n",
        "\n",
        "df_2 = pd.concat(df_2_list, ignore_index=True)\n",
        "print(df_2.head(5))\n",
        "print(\"Test Dataset :\", len(df_2))\n",
        "\n",
        "x_2_test = df_2.iloc[:,1:5]\n",
        "y_2_test = df_2.iloc[:,5]\n",
        "\n",
        "print('X Test :', x_2_test.head(5), sep='\\n')\n",
        "print('Y Test :', y_2_test.head(5), sep='\\n')"
      ],
      "metadata": {
        "colab": {
          "base_uri": "https://localhost:8080/"
        },
        "id": "OU4lE060k216",
        "outputId": "32cbb600-7a80-4172-8e86-4b5e33a248c6"
      },
      "execution_count": null,
      "outputs": [
        {
          "output_type": "stream",
          "name": "stdout",
          "text": [
            "                                   Loc  Cam  Police  Visibility Population  \\\n",
            "0                            Bus Stand    2       2           0          2   \n",
            "1  Shri Aurobindo International School    2       2           0          1   \n",
            "2                Saanjh Kendra Patiala    1       0           0          0   \n",
            "3           Police Station Lahori Gate    2       2           0          2   \n",
            "4                        Sirhindi Gate    2       1           0          1   \n",
            "\n",
            "  Safety        Lng        Lat  \n",
            "0      3  76.403865  30.338796  \n",
            "1      2  76.404373  30.338264  \n",
            "2      0  76.405234  30.337341  \n",
            "3      2  76.406021  30.336605  \n",
            "4      1  76.407053  30.335499  \n",
            "Test Dataset : 170\n",
            "X Test :\n",
            "   Cam  Police  Visibility Population\n",
            "0    2       2           0          2\n",
            "1    2       2           0          1\n",
            "2    1       0           0          0\n",
            "3    2       2           0          2\n",
            "4    2       1           0          1\n",
            "Y Test :\n",
            "0    3\n",
            "1    2\n",
            "2    0\n",
            "3    2\n",
            "4    1\n",
            "Name: Safety, dtype: object\n",
            "Route 2\n",
            "                           Loc  Cam  Police  Visibility  Population  Safety  \\\n",
            "0        Patiala Guru Jindabad    2       2           0           1       2   \n",
            "1               Prontha market    0       1           0           0       0   \n",
            "2                   Priti Oils    0       0           0           2       1   \n",
            "3                      SBI ATM    2       1           0           1       1   \n",
            "4  PSPCL Sub Divisional Office    1       1           0           0       0   \n",
            "\n",
            "         Lng        Lat  \n",
            "0  76.402732  30.340317  \n",
            "1  76.403698  30.341376  \n",
            "2  76.403928  30.341766  \n",
            "3  76.404410  30.342421  \n",
            "4  76.405413  30.343688  \n",
            "Test Dataset : 130\n",
            "X Test :\n",
            "   Cam  Police  Visibility  Population\n",
            "0    2       2           0           1\n",
            "1    0       1           0           0\n",
            "2    0       0           0           2\n",
            "3    2       1           0           1\n",
            "4    1       1           0           0\n",
            "Y Test :\n",
            "0    2\n",
            "1    0\n",
            "2    1\n",
            "3    1\n",
            "4    0\n",
            "Name: Safety, dtype: int64\n"
          ]
        }
      ]
    },
    {
      "cell_type": "markdown",
      "source": [
        "# Model training"
      ],
      "metadata": {
        "id": "By05yfi_mPia"
      }
    },
    {
      "cell_type": "code",
      "source": [
        "from sklearn.linear_model import LogisticRegression"
      ],
      "metadata": {
        "id": "rejPYg4nlNEm"
      },
      "execution_count": null,
      "outputs": []
    },
    {
      "cell_type": "code",
      "source": [
        "model = LogisticRegression(max_iter=10000)\n",
        "model.fit(x,y)"
      ],
      "metadata": {
        "colab": {
          "base_uri": "https://localhost:8080/"
        },
        "id": "0HE5MXJRmS4K",
        "outputId": "16e141be-c92b-40e0-f9ed-b1d3927c6ae1"
      },
      "execution_count": null,
      "outputs": [
        {
          "output_type": "execute_result",
          "data": {
            "text/plain": [
              "LogisticRegression(max_iter=10000)"
            ]
          },
          "metadata": {},
          "execution_count": 40
        }
      ]
    },
    {
      "cell_type": "code",
      "source": [
        "y_pred = model.predict([[0,0,0,0], [2,2,2,4], [0,2,1,2]])\n",
        "y_pred"
      ],
      "metadata": {
        "colab": {
          "base_uri": "https://localhost:8080/"
        },
        "id": "mUjOw5xHmT-y",
        "outputId": "4d8d3133-f59c-4e44-ed5a-80228b7a59b7"
      },
      "execution_count": null,
      "outputs": [
        {
          "output_type": "stream",
          "name": "stderr",
          "text": [
            "/usr/local/lib/python3.7/dist-packages/sklearn/base.py:451: UserWarning: X does not have valid feature names, but LogisticRegression was fitted with feature names\n",
            "  \"X does not have valid feature names, but\"\n"
          ]
        },
        {
          "output_type": "execute_result",
          "data": {
            "text/plain": [
              "array([0, 4, 2])"
            ]
          },
          "metadata": {},
          "execution_count": 41
        }
      ]
    },
    {
      "cell_type": "code",
      "source": [
        "print(\"Accuracy on Train Data :\", model.score(x,y))"
      ],
      "metadata": {
        "colab": {
          "base_uri": "https://localhost:8080/"
        },
        "id": "Nok5SypTmWFc",
        "outputId": "8224771b-9b7b-4a47-ab27-1b8b123b69f3"
      },
      "execution_count": null,
      "outputs": [
        {
          "output_type": "stream",
          "name": "stdout",
          "text": [
            "Accuracy on Train Data : 0.887801956478339\n"
          ]
        }
      ]
    },
    {
      "cell_type": "markdown",
      "source": [
        "## Test Dataset"
      ],
      "metadata": {
        "id": "BL7NVvgamiNB"
      }
    },
    {
      "cell_type": "code",
      "source": [
        "print(\"Route 1\")\n",
        "pred = model.predict(x_test)\n",
        "count = 0\n",
        "for i in range(len(pred)):\n",
        "  if pred[i] == y_test[i]:\n",
        "    count += 1\n",
        "  #print(pred[i], y_test[i])\n",
        "print(\"Accuracy on Test Data :\", count/len(pred)*100)\n",
        "\n",
        "print(\"Route 2\")\n",
        "\n",
        "pred_2 = model.predict(x_2_test)\n",
        "count_2 = 0\n",
        "for i in range(len(pred_2)):\n",
        "  if pred_2[i] == y_2_test[i]:\n",
        "    count_2 += 1\n",
        "  #print(pred_2[i], y_2_test[i])\n",
        "print(\"Accuracy on Test Data :\", count_2/len(pred_2)*100)"
      ],
      "metadata": {
        "colab": {
          "base_uri": "https://localhost:8080/"
        },
        "id": "NNoTdtmRmlAq",
        "outputId": "4f20650b-6834-486e-b06f-8bddd0a25221"
      },
      "execution_count": null,
      "outputs": [
        {
          "output_type": "stream",
          "name": "stdout",
          "text": [
            "Route 1\n",
            "Accuracy on Test Data : 85.29411764705883\n",
            "Route 2\n",
            "Accuracy on Test Data : 82.3076923076923\n"
          ]
        }
      ]
    },
    {
      "cell_type": "markdown",
      "source": [
        "## Individual Accuracy"
      ],
      "metadata": {
        "id": "lP71Y06zLO94"
      }
    },
    {
      "cell_type": "code",
      "source": [
        "accu_l = []\n",
        "start = 0\n",
        "for df in df_list:\n",
        "  x_t = df.iloc[:,1:5]\n",
        "  y_t = df.iloc[:,5]\n",
        "  pred = model.predict(x_t)\n",
        "  count = 0\n",
        "  for i in range(start, len(pred)):\n",
        "    if pred[i] == y_t.get(i):\n",
        "      count += 1\n",
        "  accu = count/len(pred)\n",
        "  accu_l.append(accu)\n",
        "  start = 1\n",
        "\n",
        "print(\"Accuracy Test : R_1_VL :\", accu_l[0])\n",
        "print(\"Accuracy Test : R_1_L  :\", accu_l[1])\n",
        "print(\"Accuracy Test : R_1_M  :\", accu_l[2])\n",
        "print(\"Accuracy Test : R_1_H  :\", accu_l[3])\n",
        "print(\"Accuracy Test : R_1_VH :\", accu_l[4])\n",
        "\n",
        "accu_2_l = []\n",
        "start_2 = 0\n",
        "for df_2 in df_2_list:\n",
        "  x_2_t = df_2.iloc[:,1:5]\n",
        "  y_2_t = df_2.iloc[:,5]\n",
        "  pred_2 = model.predict(x_2_t)\n",
        "  count_2 = 0\n",
        "  for i in range(start_2, len(pred_2)):\n",
        "    if pred_2[i] == y_2_t.get(i):\n",
        "      count_2 += 1\n",
        "  accu_2 = count_2/len(pred_2)\n",
        "  accu_2_l.append(accu_2)\n",
        "  start_2 = 1\n",
        "\n",
        "print(\"Accuracy Test : R_2_VL :\", accu_2_l[0])\n",
        "print(\"Accuracy Test : R_2_L  :\", accu_2_l[1])\n",
        "print(\"Accuracy Test : R_2_M  :\", accu_2_l[2])\n",
        "print(\"Accuracy Test : R_2_H  :\", accu_2_l[3])\n",
        "print(\"Accuracy Test : R_2_VH :\", accu_2_l[4])"
      ],
      "metadata": {
        "colab": {
          "base_uri": "https://localhost:8080/"
        },
        "id": "dDXYG7CDLR7w",
        "outputId": "102b0274-795f-405a-c175-b86a121b3f72"
      },
      "execution_count": null,
      "outputs": [
        {
          "output_type": "stream",
          "name": "stdout",
          "text": [
            "Accuracy Test : R_1_VL : 0.8529411764705882\n",
            "Accuracy Test : R_1_L  : 0.3235294117647059\n",
            "Accuracy Test : R_1_M  : 0.38235294117647056\n",
            "Accuracy Test : R_1_H  : 0.23529411764705882\n",
            "Accuracy Test : R_1_VH : 0.3235294117647059\n",
            "Accuracy Test : R_2_VL : 0.23076923076923078\n",
            "Accuracy Test : R_2_L  : 0.11538461538461539\n",
            "Accuracy Test : R_2_M  : 0.3076923076923077\n",
            "Accuracy Test : R_2_H  : 0.15384615384615385\n",
            "Accuracy Test : R_2_VH : 0.11538461538461539\n"
          ]
        }
      ]
    },
    {
      "cell_type": "markdown",
      "source": [
        "# Save Model"
      ],
      "metadata": {
        "id": "JhJfBOATNlmr"
      }
    },
    {
      "cell_type": "code",
      "source": [
        "import pickle "
      ],
      "metadata": {
        "id": "2J1yh5fTNt6Z"
      },
      "execution_count": null,
      "outputs": []
    },
    {
      "cell_type": "code",
      "source": [
        "filename = 'model.sav'\n",
        "pickle.dump(model, open(filename, 'wb'))"
      ],
      "metadata": {
        "id": "_wLzpineMKF4"
      },
      "execution_count": null,
      "outputs": []
    },
    {
      "cell_type": "markdown",
      "source": [
        "# Load Model\n",
        "\n",
        "#### Use \"**model.sav**\" as the model file name and remember to upload model to colab"
      ],
      "metadata": {
        "id": "0zkBaA_rN3P_"
      }
    },
    {
      "cell_type": "code",
      "source": [
        "import pickle "
      ],
      "metadata": {
        "id": "d7PJ-deUOoiu"
      },
      "execution_count": null,
      "outputs": []
    },
    {
      "cell_type": "code",
      "source": [
        "filename = 'model.sav'\n",
        "loaded_model = pickle.load(open(filename, 'rb'))\n",
        "res = loaded_model.predict([[0, 0, 0, 0]]) # use values to predict mannualy in [[ 0, 0, 0, 0]]\n",
        "print(\"Prediction :\", res)"
      ],
      "metadata": {
        "colab": {
          "base_uri": "https://localhost:8080/"
        },
        "id": "mdgmT6GQN1SO",
        "outputId": "ecb97e6b-4092-4859-ecd6-793862803f50"
      },
      "execution_count": null,
      "outputs": [
        {
          "output_type": "stream",
          "name": "stdout",
          "text": [
            "Prediction : [0]\n"
          ]
        },
        {
          "output_type": "stream",
          "name": "stderr",
          "text": [
            "/usr/local/lib/python3.7/dist-packages/sklearn/base.py:451: UserWarning: X does not have valid feature names, but LogisticRegression was fitted with feature names\n",
            "  \"X does not have valid feature names, but\"\n"
          ]
        }
      ]
    },
    {
      "cell_type": "markdown",
      "source": [
        "# Convert Model data to Firebase (json)"
      ],
      "metadata": {
        "id": "zHdatEp5Of25"
      }
    },
    {
      "cell_type": "code",
      "source": [
        "import json"
      ],
      "metadata": {
        "id": "6mpbOUdBORD8"
      },
      "execution_count": null,
      "outputs": []
    },
    {
      "cell_type": "code",
      "source": [
        "df_list_mod = []\n",
        "\n",
        "for df in df_list:\n",
        "  df_list_mod.append(df.loc[:, ['Lng', 'Lat', 'Visibility', 'Safety']])\n",
        "\n",
        "df_list_2_mod = []\n",
        "\n",
        "for df in df_2_list:\n",
        "  df_list_2_mod.append(df.loc[:, ['Lng', 'Lat', 'Visibility', 'Safety']])\n",
        "\n",
        "print(df_list_mod[1].head(5))\n",
        "print(df_list_2_mod[1].head(5))"
      ],
      "metadata": {
        "colab": {
          "base_uri": "https://localhost:8080/"
        },
        "id": "d08KfhSUOmJs",
        "outputId": "950371bf-7624-4dbf-952d-734591cc2d47"
      },
      "execution_count": null,
      "outputs": [
        {
          "output_type": "stream",
          "name": "stdout",
          "text": [
            "         Lng        Lat  Visibility Safety\n",
            "1  76.403865  30.338796           1      4\n",
            "2  76.404373  30.338264           1      3\n",
            "3  76.405234  30.337341           1      1\n",
            "4  76.406021  30.336605           1      3\n",
            "5  76.407053  30.335499           1      2\n",
            "         Lng        Lat  Visibility  Safety\n",
            "1  76.402732  30.340317           1       3\n",
            "2  76.403698  30.341376           1       1\n",
            "3  76.403928  30.341766           1       0\n",
            "4  76.404410  30.342421           1       1\n",
            "5  76.405413  30.343688           1       2\n"
          ]
        }
      ]
    },
    {
      "cell_type": "code",
      "source": [
        "parent = {}\n",
        "\n",
        "for i,row in df_list_mod[0].iterrows():\n",
        "  dic = {'Lat':row['Lat'], 'Lng':row['Lng']}\n",
        "  dic['VL'] = int(row['Safety'])\n",
        "  dic['L']  = df_list_mod[1].loc[i+1, 'Safety']\n",
        "  dic['M']  = df_list_mod[2].loc[i+1, 'Safety']\n",
        "  dic['H']  = df_list_mod[3].loc[i+1, 'Safety']\n",
        "  dic['VH'] = df_list_mod[4].loc[i+1, 'Safety']\n",
        "  parent[i] = dic\n",
        "  print(i, dic)\n",
        "\n",
        "parent_2 = {}\n",
        "\n",
        "for i,row in df_list_2_mod[0].iterrows():\n",
        "  dic = {'Lat':row['Lat'], 'Lng':row['Lng']}\n",
        "  dic['VL'] = int(row['Safety'])\n",
        "  dic['L']  = int(df_list_2_mod[1].loc[i, 'Safety'])\n",
        "  dic['M']  = int(df_list_2_mod[2].loc[i, 'Safety'])\n",
        "  dic['H']  = int(df_list_2_mod[3].loc[i, 'Safety'])\n",
        "  dic['VH'] = int(df_list_2_mod[4].loc[i, 'Safety'])\n",
        "  parent_2[int(i)] = dic\n",
        "  print(i, dic)"
      ],
      "metadata": {
        "colab": {
          "base_uri": "https://localhost:8080/"
        },
        "id": "Cdt62EE1PUkb",
        "outputId": "bcd6fef1-0cd7-46df-c289-3c1ab76218a2"
      },
      "execution_count": null,
      "outputs": [
        {
          "output_type": "stream",
          "name": "stdout",
          "text": [
            "0 {'Lat': 30.3387958277685, 'Lng': 76.4038652207071, 'VL': 3, 'L': 4, 'M': 4, 'H': 4, 'VH': 4}\n",
            "1 {'Lat': 30.3382644405075, 'Lng': 76.404373326127, 'VL': 2, 'L': 3, 'M': 2, 'H': 4, 'VH': 4}\n",
            "2 {'Lat': 30.3373411085995, 'Lng': 76.4052337925727, 'VL': 0, 'L': 1, 'M': 2, 'H': 3, 'VH': 3}\n",
            "3 {'Lat': 30.3366054063364, 'Lng': 76.4060206158292, 'VL': 2, 'L': 3, 'M': 2, 'H': 4, 'VH': 4}\n",
            "4 {'Lat': 30.3354994574147, 'Lng': 76.4070525405467, 'VL': 1, 'L': 2, 'M': 3, 'H': 4, 'VH': 4}\n",
            "5 {'Lat': 30.3351695209338, 'Lng': 76.4073961981845, 'VL': 0, 'L': 1, 'M': 2, 'H': 3, 'VH': 3}\n",
            "6 {'Lat': 30.3344592554962, 'Lng': 76.4081157036218, 'VL': 0, 'L': 1, 'M': 2, 'H': 1, 'VH': 3}\n",
            "7 {'Lat': 30.333015422635, 'Lng': 76.4095547136816, 'VL': 2, 'L': 2, 'M': 2, 'H': 1, 'VH': 4}\n",
            "8 {'Lat': 30.3330106506127, 'Lng': 76.4095616391869, 'VL': 1, 'L': 2, 'M': 2, 'H': 4, 'VH': 3}\n",
            "9 {'Lat': 30.3322645526682, 'Lng': 76.4103497975185, 'VL': 1, 'L': 2, 'M': 2, 'H': 3, 'VH': 4}\n",
            "10 {'Lat': 30.3313850455656, 'Lng': 76.4176595583658, 'VL': 0, 'L': 1, 'M': 1, 'H': 3, 'VH': 4}\n",
            "11 {'Lat': 30.3318379872367, 'Lng': 76.418686303846, 'VL': 2, 'L': 2, 'M': 2, 'H': 3, 'VH': 4}\n",
            "12 {'Lat': 30.3336986770748, 'Lng': 76.4217285545938, 'VL': 1, 'L': 1, 'M': 1, 'H': 3, 'VH': 2}\n",
            "13 {'Lat': 30.3342360776659, 'Lng': 76.4226273265693, 'VL': 0, 'L': 1, 'M': 1, 'H': 2, 'VH': 3}\n",
            "14 {'Lat': 30.3359940567503, 'Lng': 76.4261918153232, 'VL': 0, 'L': 0, 'M': 1, 'H': 2, 'VH': 3}\n",
            "15 {'Lat': 30.3368557989311, 'Lng': 76.4269805956891, 'VL': 0, 'L': 0, 'M': 1, 'H': 0, 'VH': 1}\n",
            "16 {'Lat': 30.3372177283856, 'Lng': 76.4275297465764, 'VL': 0, 'L': 0, 'M': 0, 'H': 2, 'VH': 3}\n",
            "17 {'Lat': 30.3384009046156, 'Lng': 76.4294298328588, 'VL': 0, 'L': 1, 'M': 1, 'H': 1, 'VH': 3}\n",
            "18 {'Lat': 30.3388403832711, 'Lng': 76.4300289065537, 'VL': 1, 'L': 1, 'M': 1, 'H': 3, 'VH': 4}\n",
            "19 {'Lat': 30.3392023053889, 'Lng': 76.4305181500728, 'VL': 0, 'L': 0, 'M': 1, 'H': 2, 'VH': 1}\n",
            "20 {'Lat': 30.3396417804467, 'Lng': 76.4310872700829, 'VL': 1, 'L': 1, 'M': 2, 'H': 4, 'VH': 4}\n",
            "21 {'Lat': 30.3399503174541, 'Lng': 76.4314769101275, 'VL': 0, 'L': 0, 'M': 0, 'H': 2, 'VH': 3}\n",
            "22 {'Lat': 30.3402519158925, 'Lng': 76.4319162308376, 'VL': 0, 'L': 1, 'M': 2, 'H': 3, 'VH': 3}\n",
            "23 {'Lat': 30.3404931939738, 'Lng': 76.4322357368085, 'VL': 1, 'L': 1, 'M': 2, 'H': 3, 'VH': 2}\n",
            "24 {'Lat': 30.3408034077757, 'Lng': 76.4325752119021, 'VL': 1, 'L': 1, 'M': 1, 'H': 3, 'VH': 4}\n",
            "25 {'Lat': 30.3414823338087, 'Lng': 76.4334459976002, 'VL': 0, 'L': 0, 'M': 1, 'H': 3, 'VH': 3}\n",
            "26 {'Lat': 30.344219891611, 'Lng': 76.4369106369213, 'VL': 2, 'L': 3, 'M': 3, 'H': 4, 'VH': 4}\n",
            "27 {'Lat': 30.3448553239582, 'Lng': 76.4376467693006, 'VL': 2, 'L': 2, 'M': 3, 'H': 3, 'VH': 4}\n",
            "28 {'Lat': 30.3450850454877, 'Lng': 76.4378782386117, 'VL': 1, 'L': 1, 'M': 1, 'H': 2, 'VH': 3}\n",
            "29 {'Lat': 30.3453946693051, 'Lng': 76.4383180303033, 'VL': 0, 'L': 1, 'M': 1, 'H': 1, 'VH': 1}\n",
            "30 {'Lat': 30.3476361132336, 'Lng': 76.4417168301516, 'VL': 0, 'L': 0, 'M': 0, 'H': 2, 'VH': 3}\n",
            "31 {'Lat': 30.3481323588381, 'Lng': 76.4429631646839, 'VL': 1, 'L': 1, 'M': 2, 'H': 2, 'VH': 3}\n",
            "32 {'Lat': 30.3522766443573, 'Lng': 76.4488071392517, 'VL': 0, 'L': 1, 'M': 1, 'H': 1, 'VH': 2}\n",
            "33 {'Lat': 30.3568106889528, 'Lng': 76.455238561823, 'VL': 2, 'L': 3, 'M': 3, 'H': 4, 'VH': 4}\n",
            "1 {'Lat': 30.3403174625567, 'Lng': 76.4027317312841, 'VL': 2, 'L': 3, 'M': 2, 'H': 3, 'VH': 4}\n",
            "2 {'Lat': 30.341375956773, 'Lng': 76.403697873132, 'VL': 0, 'L': 1, 'M': 1, 'H': 1, 'VH': 3}\n",
            "3 {'Lat': 30.3417657220857, 'Lng': 76.4039275441734, 'VL': 1, 'L': 0, 'M': 1, 'H': 2, 'VH': 2}\n",
            "4 {'Lat': 30.3424206445551, 'Lng': 76.4044101839701, 'VL': 1, 'L': 1, 'M': 3, 'H': 2, 'VH': 4}\n",
            "5 {'Lat': 30.343687778663, 'Lng': 76.4054125210934, 'VL': 0, 'L': 2, 'M': 1, 'H': 3, 'VH': 4}\n",
            "6 {'Lat': 30.3439945996757, 'Lng': 76.405653337754, 'VL': 1, 'L': 1, 'M': 2, 'H': 2, 'VH': 3}\n",
            "7 {'Lat': 30.3438137502076, 'Lng': 76.405516019308, 'VL': 0, 'L': 1, 'M': 0, 'H': 0, 'VH': 1}\n",
            "8 {'Lat': 30.3460003116911, 'Lng': 76.4067310535087, 'VL': 0, 'L': 0, 'M': 1, 'H': 3, 'VH': 4}\n",
            "9 {'Lat': 30.3510907093308, 'Lng': 76.412241783596, 'VL': 0, 'L': 1, 'M': 1, 'H': 2, 'VH': 3}\n",
            "10 {'Lat': 30.3513985472393, 'Lng': 76.4126052021749, 'VL': 0, 'L': 0, 'M': 0, 'H': 1, 'VH': 4}\n",
            "11 {'Lat': 30.3549901761984, 'Lng': 76.416285560325, 'VL': 1, 'L': 2, 'M': 2, 'H': 3, 'VH': 3}\n",
            "12 {'Lat': 30.3571214990342, 'Lng': 76.4185174714012, 'VL': 1, 'L': 1, 'M': 2, 'H': 1, 'VH': 2}\n",
            "13 {'Lat': 30.3578073049943, 'Lng': 76.4192129599014, 'VL': 1, 'L': 2, 'M': 2, 'H': 2, 'VH': 4}\n",
            "14 {'Lat': 30.3592966038369, 'Lng': 76.4219246187526, 'VL': 0, 'L': 0, 'M': 1, 'H': 2, 'VH': 3}\n",
            "15 {'Lat': 30.3549703596489, 'Lng': 76.4258038186086, 'VL': 1, 'L': 2, 'M': 2, 'H': 3, 'VH': 4}\n",
            "16 {'Lat': 30.3546643493769, 'Lng': 76.4260981207443, 'VL': 0, 'L': 0, 'M': 0, 'H': 2, 'VH': 3}\n",
            "17 {'Lat': 30.352982159148, 'Lng': 76.4276322936047, 'VL': 2, 'L': 2, 'M': 2, 'H': 4, 'VH': 4}\n",
            "18 {'Lat': 30.352858841543, 'Lng': 76.4277374945738, 'VL': 1, 'L': 2, 'M': 2, 'H': 2, 'VH': 4}\n",
            "19 {'Lat': 30.3520397723859, 'Lng': 76.4285234681159, 'VL': 0, 'L': 1, 'M': 1, 'H': 2, 'VH': 3}\n",
            "20 {'Lat': 30.3508440443895, 'Lng': 76.4297125775173, 'VL': 2, 'L': 2, 'M': 3, 'H': 4, 'VH': 4}\n",
            "21 {'Lat': 30.3513833982476, 'Lng': 76.4304463748495, 'VL': 1, 'L': 1, 'M': 1, 'H': 2, 'VH': 3}\n",
            "22 {'Lat': 30.3523841561925, 'Lng': 76.4317488738848, 'VL': 0, 'L': 2, 'M': 2, 'H': 3, 'VH': 4}\n",
            "23 {'Lat': 30.3531035866957, 'Lng': 76.4326715365982, 'VL': 1, 'L': 2, 'M': 2, 'H': 4, 'VH': 4}\n",
            "24 {'Lat': 30.3551021079391, 'Lng': 76.4352543812277, 'VL': 2, 'L': 3, 'M': 2, 'H': 4, 'VH': 4}\n",
            "25 {'Lat': 30.3565077186112, 'Lng': 76.4431020643773, 'VL': 0, 'L': 1, 'M': 2, 'H': 2, 'VH': 3}\n",
            "26 {'Lat': 30.3585329281303, 'Lng': 76.4459424178376, 'VL': 2, 'L': 3, 'M': 3, 'H': 4, 'VH': 4}\n"
          ]
        }
      ]
    },
    {
      "cell_type": "code",
      "source": [
        "json_object = json.dumps(parent, indent = 4)\n",
        "print(json_object)"
      ],
      "metadata": {
        "id": "V4FUMhvvQDN5"
      },
      "execution_count": null,
      "outputs": []
    },
    {
      "cell_type": "code",
      "source": [
        "json_object_2 = json.dumps(parent_2, indent = 4)\n",
        "print(json_object_2)"
      ],
      "metadata": {
        "colab": {
          "base_uri": "https://localhost:8080/"
        },
        "id": "vn629on9qCIK",
        "outputId": "172637fb-ea74-431e-ad47-046017cf6e2b"
      },
      "execution_count": null,
      "outputs": [
        {
          "output_type": "stream",
          "name": "stdout",
          "text": [
            "{\n",
            "    \"1\": {\n",
            "        \"Lat\": 30.3403174625567,\n",
            "        \"Lng\": 76.4027317312841,\n",
            "        \"VL\": 2,\n",
            "        \"L\": 3,\n",
            "        \"M\": 2,\n",
            "        \"H\": 3,\n",
            "        \"VH\": 4\n",
            "    },\n",
            "    \"2\": {\n",
            "        \"Lat\": 30.341375956773,\n",
            "        \"Lng\": 76.403697873132,\n",
            "        \"VL\": 0,\n",
            "        \"L\": 1,\n",
            "        \"M\": 1,\n",
            "        \"H\": 1,\n",
            "        \"VH\": 3\n",
            "    },\n",
            "    \"3\": {\n",
            "        \"Lat\": 30.3417657220857,\n",
            "        \"Lng\": 76.4039275441734,\n",
            "        \"VL\": 1,\n",
            "        \"L\": 0,\n",
            "        \"M\": 1,\n",
            "        \"H\": 2,\n",
            "        \"VH\": 2\n",
            "    },\n",
            "    \"4\": {\n",
            "        \"Lat\": 30.3424206445551,\n",
            "        \"Lng\": 76.4044101839701,\n",
            "        \"VL\": 1,\n",
            "        \"L\": 1,\n",
            "        \"M\": 3,\n",
            "        \"H\": 2,\n",
            "        \"VH\": 4\n",
            "    },\n",
            "    \"5\": {\n",
            "        \"Lat\": 30.343687778663,\n",
            "        \"Lng\": 76.4054125210934,\n",
            "        \"VL\": 0,\n",
            "        \"L\": 2,\n",
            "        \"M\": 1,\n",
            "        \"H\": 3,\n",
            "        \"VH\": 4\n",
            "    },\n",
            "    \"6\": {\n",
            "        \"Lat\": 30.3439945996757,\n",
            "        \"Lng\": 76.405653337754,\n",
            "        \"VL\": 1,\n",
            "        \"L\": 1,\n",
            "        \"M\": 2,\n",
            "        \"H\": 2,\n",
            "        \"VH\": 3\n",
            "    },\n",
            "    \"7\": {\n",
            "        \"Lat\": 30.3438137502076,\n",
            "        \"Lng\": 76.405516019308,\n",
            "        \"VL\": 0,\n",
            "        \"L\": 1,\n",
            "        \"M\": 0,\n",
            "        \"H\": 0,\n",
            "        \"VH\": 1\n",
            "    },\n",
            "    \"8\": {\n",
            "        \"Lat\": 30.3460003116911,\n",
            "        \"Lng\": 76.4067310535087,\n",
            "        \"VL\": 0,\n",
            "        \"L\": 0,\n",
            "        \"M\": 1,\n",
            "        \"H\": 3,\n",
            "        \"VH\": 4\n",
            "    },\n",
            "    \"9\": {\n",
            "        \"Lat\": 30.3510907093308,\n",
            "        \"Lng\": 76.412241783596,\n",
            "        \"VL\": 0,\n",
            "        \"L\": 1,\n",
            "        \"M\": 1,\n",
            "        \"H\": 2,\n",
            "        \"VH\": 3\n",
            "    },\n",
            "    \"10\": {\n",
            "        \"Lat\": 30.3513985472393,\n",
            "        \"Lng\": 76.4126052021749,\n",
            "        \"VL\": 0,\n",
            "        \"L\": 0,\n",
            "        \"M\": 0,\n",
            "        \"H\": 1,\n",
            "        \"VH\": 4\n",
            "    },\n",
            "    \"11\": {\n",
            "        \"Lat\": 30.3549901761984,\n",
            "        \"Lng\": 76.416285560325,\n",
            "        \"VL\": 1,\n",
            "        \"L\": 2,\n",
            "        \"M\": 2,\n",
            "        \"H\": 3,\n",
            "        \"VH\": 3\n",
            "    },\n",
            "    \"12\": {\n",
            "        \"Lat\": 30.3571214990342,\n",
            "        \"Lng\": 76.4185174714012,\n",
            "        \"VL\": 1,\n",
            "        \"L\": 1,\n",
            "        \"M\": 2,\n",
            "        \"H\": 1,\n",
            "        \"VH\": 2\n",
            "    },\n",
            "    \"13\": {\n",
            "        \"Lat\": 30.3578073049943,\n",
            "        \"Lng\": 76.4192129599014,\n",
            "        \"VL\": 1,\n",
            "        \"L\": 2,\n",
            "        \"M\": 2,\n",
            "        \"H\": 2,\n",
            "        \"VH\": 4\n",
            "    },\n",
            "    \"14\": {\n",
            "        \"Lat\": 30.3592966038369,\n",
            "        \"Lng\": 76.4219246187526,\n",
            "        \"VL\": 0,\n",
            "        \"L\": 0,\n",
            "        \"M\": 1,\n",
            "        \"H\": 2,\n",
            "        \"VH\": 3\n",
            "    },\n",
            "    \"15\": {\n",
            "        \"Lat\": 30.3549703596489,\n",
            "        \"Lng\": 76.4258038186086,\n",
            "        \"VL\": 1,\n",
            "        \"L\": 2,\n",
            "        \"M\": 2,\n",
            "        \"H\": 3,\n",
            "        \"VH\": 4\n",
            "    },\n",
            "    \"16\": {\n",
            "        \"Lat\": 30.3546643493769,\n",
            "        \"Lng\": 76.4260981207443,\n",
            "        \"VL\": 0,\n",
            "        \"L\": 0,\n",
            "        \"M\": 0,\n",
            "        \"H\": 2,\n",
            "        \"VH\": 3\n",
            "    },\n",
            "    \"17\": {\n",
            "        \"Lat\": 30.352982159148,\n",
            "        \"Lng\": 76.4276322936047,\n",
            "        \"VL\": 2,\n",
            "        \"L\": 2,\n",
            "        \"M\": 2,\n",
            "        \"H\": 4,\n",
            "        \"VH\": 4\n",
            "    },\n",
            "    \"18\": {\n",
            "        \"Lat\": 30.352858841543,\n",
            "        \"Lng\": 76.4277374945738,\n",
            "        \"VL\": 1,\n",
            "        \"L\": 2,\n",
            "        \"M\": 2,\n",
            "        \"H\": 2,\n",
            "        \"VH\": 4\n",
            "    },\n",
            "    \"19\": {\n",
            "        \"Lat\": 30.3520397723859,\n",
            "        \"Lng\": 76.4285234681159,\n",
            "        \"VL\": 0,\n",
            "        \"L\": 1,\n",
            "        \"M\": 1,\n",
            "        \"H\": 2,\n",
            "        \"VH\": 3\n",
            "    },\n",
            "    \"20\": {\n",
            "        \"Lat\": 30.3508440443895,\n",
            "        \"Lng\": 76.4297125775173,\n",
            "        \"VL\": 2,\n",
            "        \"L\": 2,\n",
            "        \"M\": 3,\n",
            "        \"H\": 4,\n",
            "        \"VH\": 4\n",
            "    },\n",
            "    \"21\": {\n",
            "        \"Lat\": 30.3513833982476,\n",
            "        \"Lng\": 76.4304463748495,\n",
            "        \"VL\": 1,\n",
            "        \"L\": 1,\n",
            "        \"M\": 1,\n",
            "        \"H\": 2,\n",
            "        \"VH\": 3\n",
            "    },\n",
            "    \"22\": {\n",
            "        \"Lat\": 30.3523841561925,\n",
            "        \"Lng\": 76.4317488738848,\n",
            "        \"VL\": 0,\n",
            "        \"L\": 2,\n",
            "        \"M\": 2,\n",
            "        \"H\": 3,\n",
            "        \"VH\": 4\n",
            "    },\n",
            "    \"23\": {\n",
            "        \"Lat\": 30.3531035866957,\n",
            "        \"Lng\": 76.4326715365982,\n",
            "        \"VL\": 1,\n",
            "        \"L\": 2,\n",
            "        \"M\": 2,\n",
            "        \"H\": 4,\n",
            "        \"VH\": 4\n",
            "    },\n",
            "    \"24\": {\n",
            "        \"Lat\": 30.3551021079391,\n",
            "        \"Lng\": 76.4352543812277,\n",
            "        \"VL\": 2,\n",
            "        \"L\": 3,\n",
            "        \"M\": 2,\n",
            "        \"H\": 4,\n",
            "        \"VH\": 4\n",
            "    },\n",
            "    \"25\": {\n",
            "        \"Lat\": 30.3565077186112,\n",
            "        \"Lng\": 76.4431020643773,\n",
            "        \"VL\": 0,\n",
            "        \"L\": 1,\n",
            "        \"M\": 2,\n",
            "        \"H\": 2,\n",
            "        \"VH\": 3\n",
            "    },\n",
            "    \"26\": {\n",
            "        \"Lat\": 30.3585329281303,\n",
            "        \"Lng\": 76.4459424178376,\n",
            "        \"VL\": 2,\n",
            "        \"L\": 3,\n",
            "        \"M\": 3,\n",
            "        \"H\": 4,\n",
            "        \"VH\": 4\n",
            "    }\n",
            "}\n"
          ]
        }
      ]
    },
    {
      "cell_type": "code",
      "source": [
        "with open(\"route_1.json\", \"w\") as outfile:\n",
        "    json.dump(parent, outfile)\n",
        "with open(\"route_2.json\", \"w\") as outfile:\n",
        "    json.dump(parent_2, outfile)"
      ],
      "metadata": {
        "id": "uLHfHLKFQRQw"
      },
      "execution_count": null,
      "outputs": []
    },
    {
      "cell_type": "code",
      "source": [
        ""
      ],
      "metadata": {
        "id": "uHyyLpl9SFf1"
      },
      "execution_count": null,
      "outputs": []
    }
  ]
}