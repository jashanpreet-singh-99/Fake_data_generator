{
  "nbformat": 4,
  "nbformat_minor": 0,
  "metadata": {
    "colab": {
      "name": "RTIS-security.ipynb",
      "provenance": [],
      "collapsed_sections": []
    },
    "kernelspec": {
      "name": "python3",
      "display_name": "Python 3"
    },
    "language_info": {
      "name": "python"
    }
  },
  "cells": [
    {
      "cell_type": "code",
      "execution_count": 1,
      "metadata": {
        "id": "PCkQi1sHhnwo"
      },
      "outputs": [],
      "source": [
        "import pandas as pd\n",
        "import os\n",
        "import numpy as np"
      ]
    },
    {
      "cell_type": "markdown",
      "source": [
        "#Data PreProcessing"
      ],
      "metadata": {
        "id": "wDmCuiZlv6jX"
      }
    },
    {
      "cell_type": "markdown",
      "source": [
        "##Paths"
      ],
      "metadata": {
        "id": "Ub9_FaBljIoJ"
      }
    },
    {
      "cell_type": "code",
      "source": [
        "df_1_path = os.path.join(os.getcwd(), 'data_route_1.csv')\n",
        "df_2_path = os.path.join(os.getcwd(), 'data_route_2.csv')"
      ],
      "metadata": {
        "id": "5mLqbaDZjO7T"
      },
      "execution_count": 2,
      "outputs": []
    },
    {
      "cell_type": "code",
      "source": [
        "df_1 = pd.read_csv(df_1_path, index_col=0)\n",
        "df_2 = pd.read_csv(df_2_path, index_col=0)\n",
        "df = pd.concat([df_1, df_2], ignore_index=True)"
      ],
      "metadata": {
        "id": "DUj-hvfEiCbg"
      },
      "execution_count": 4,
      "outputs": []
    },
    {
      "cell_type": "code",
      "source": [
        "print(df)"
      ],
      "metadata": {
        "colab": {
          "base_uri": "https://localhost:8080/"
        },
        "id": "hMjTDcVMiifR",
        "outputId": "1c82ab26-8fc0-4be4-968b-1ac9a834e7f7"
      },
      "execution_count": null,
      "outputs": [
        {
          "output_type": "stream",
          "name": "stdout",
          "text": [
            "                                         Loc       Lng       Lat     Cam  \\\n",
            "0                                  Bus Stand  76.40303  30.33879     yes   \n",
            "1        Shri Aurobindo International School  76.40281  30.33832     yes   \n",
            "2                      Saanjh Kendra Patiala  76.40539  30.33624  May Be   \n",
            "3                 Police Station Lahori Gate  76.40421  30.33667     Yes   \n",
            "4                              Sirhindi Gate  76.40699  30.33546     Yes   \n",
            "5                         PRTC Patiala Depot  76.40685  30.33493     Yes   \n",
            "6                     Ancient Hanuman Mandir  76.40821  30.33453  May Be   \n",
            "7                 Aggarsain Hospital Patiala  76.40872  30.33392     yes   \n",
            "8                                SDKS Bhawan  76.40967  30.33307     yes   \n",
            "9                            Pal petrol pump  76.41014  30.33214      no   \n",
            "10       Maruti Suzuki cars, hira automobile  76.41772  30.33115     Yes   \n",
            "11                           Hotel Eqbal Inn  76.41802  30.33256     Yes   \n",
            "12                     Hotel Uttam residency  76.42245  30.33296     Yes   \n",
            "13                  Kartar Singh oil company  76.42277  30.33404      no   \n",
            "14                    Tarsem furniture house  76.42619  30.33601      no   \n",
            "15             MPF Showroom, Amar tyre works  76.42708  30.33671      no   \n",
            "16      Harman Airconditioners Daikin Shoppe  76.42738  30.33731  May Be   \n",
            "17                          Jain Petrol Pump  76.42927  30.33853  May Be   \n",
            "18          Massy world(multibrand showroom)  76.43017  30.33873     yes   \n",
            "19             Duroflex Store - Comfort Zone  76.43059  30.33913      no   \n",
            "20                          The grand square  76.43119  30.33914     yes   \n",
            "21                           Ahuja Furniture  76.43191  30.34007  May Be   \n",
            "22                     Vardhman Janhit Rasoi  76.43225  30.34002      no   \n",
            "23                Vardhman Steels and Metals  76.43214  30.34031     Yes   \n",
            "24                               Burger King  76.43226  30.34091     Yes   \n",
            "25                            Verka milk bar  76.44173  30.34764      no   \n",
            "26                       Bypass flyover park  76.43713  30.34404     yes   \n",
            "27             Vardhman Mahaveer Health Care  76.43724  30.34526     yes   \n",
            "28  Barbeque Nation - Patiala - Urban Estate  76.43738  30.34536  May Be   \n",
            "29                         Atwal Petrol Pump  76.43821  30.34552  May Be   \n",
            "30               Baani Milk Producer Company  76.43749  30.34541  May Be   \n",
            "31                         Phase 2 Main road  76.44295  30.34814  May Be   \n",
            "32                            Peer ji dargah  76.44865  30.35244      no   \n",
            "33            Punjabi university (main gate)  76.45508  30.35691     yes   \n",
            "34                     Patiala Guru Jindabad  76.40136  30.34129     Yes   \n",
            "35                            Prontha market  76.40286  30.34036     No    \n",
            "36                                Priti Oils  76.40381  30.34137      No   \n",
            "37                                   SBI ATM  76.40396  30.34174     Yes   \n",
            "38               PSPCL Sub Divisional Office  76.40472  30.34222  may be   \n",
            "39                      sri shani dev mandir  76.40565  30.34388      no   \n",
            "40                     Office Food & Supply   76.40591  30.34362      no   \n",
            "41                       Sheetla Mata Mandir  76.40653  30.34611      no   \n",
            "42                                  Easy Day  76.41255  30.35145      No   \n",
            "43                             Hotel ontario  76.41257  30.35115  may be   \n",
            "44           Diesel Loco Modernisation Works  76.41621  30.35506  may be   \n",
            "45                           DMW post office  76.41901  30.35693  may be   \n",
            "46                              DMW Hospital  76.41986  30.35714     yes   \n",
            "47                              DMW Stadium   76.42252  30.35968      no   \n",
            "48                 Gurdawara Dashmesh Bhawan  76.42567  30.35479  may be   \n",
            "49                         Mahadev Furniture  76.42612  30.35477      No   \n",
            "50                             Public Toilet  76.42759  30.35292     Yes   \n",
            "51                                Badi Nadhi  76.42768  30.35292      no   \n",
            "52                     Jashandeep cyber fuel  76.42898  30.35234     Yes   \n",
            "53                         Kakkar Tent House  76.42959  30.35078     Yes   \n",
            "54                        Hotel HD Residency  76.43044  30.35139     yes   \n",
            "55                               Opera Ielts  76.43168  30.35245  May be   \n",
            "56          St. Xaviers International School  76.43237  30.35325      No   \n",
            "57             Police Station (urban estate)  76.43543  30.35499     yes   \n",
            "58                                  PDA Park  76.44283  30.35634      no   \n",
            "59                     Student's Parking lot  76.44595  30.35854     yes   \n",
            "\n",
            "       Police  Safety  \n",
            "0         yes       4  \n",
            "1         yes       4  \n",
            "2          no       1  \n",
            "3         yes       4  \n",
            "4   some time       3  \n",
            "5          no       2  \n",
            "6   some time       2  \n",
            "7         yes       4  \n",
            "8   some time       3  \n",
            "9   some time       1  \n",
            "10         no       2  \n",
            "11        Yes       4  \n",
            "12         no       2  \n",
            "13         no       0  \n",
            "14  some time       1  \n",
            "15         no       0  \n",
            "16         no       1  \n",
            "17         no       1  \n",
            "18         no       2  \n",
            "19         no       0  \n",
            "20         no       2  \n",
            "21         no       1  \n",
            "22         no       0  \n",
            "23         no       2  \n",
            "24         no       2  \n",
            "25         no       0  \n",
            "26        Yes       4  \n",
            "27  some time       3  \n",
            "28  some time       2  \n",
            "29         no       1  \n",
            "30         no       1  \n",
            "31  some time       2  \n",
            "32  some time       1  \n",
            "33        yes       4  \n",
            "34        Yes       4  \n",
            "35   Sometime       1  \n",
            "36         No       0  \n",
            "37         No       2  \n",
            "38     may be       2  \n",
            "39         no       0  \n",
            "40         no       0  \n",
            "41         no       0  \n",
            "42         No       0  \n",
            "43         no       1  \n",
            "44         No       1  \n",
            "45     may be       2  \n",
            "46     may be       3  \n",
            "47   Sometime       1  \n",
            "48   Sometime       2  \n",
            "49   Sometime       1  \n",
            "50        Yes       4  \n",
            "51   Sometime       1  \n",
            "52         No       2  \n",
            "53   Sometime       3  \n",
            "54   Sometime       3  \n",
            "55         no       1  \n",
            "56        Yes       3  \n",
            "57        Yes       4  \n",
            "58         no       0  \n",
            "59        yes       4  \n"
          ]
        }
      ]
    },
    {
      "cell_type": "markdown",
      "source": [
        "## Fix Data Issues"
      ],
      "metadata": {
        "id": "-pqmsTrtmp2T"
      }
    },
    {
      "cell_type": "code",
      "source": [
        "df.Cam.unique()"
      ],
      "metadata": {
        "colab": {
          "base_uri": "https://localhost:8080/"
        },
        "id": "4yoopr_JAI3P",
        "outputId": "df366c7d-d171-47bc-9b45-dda06dd17a6e"
      },
      "execution_count": 5,
      "outputs": [
        {
          "output_type": "execute_result",
          "data": {
            "text/plain": [
              "array(['yes', 'May Be', 'Yes', 'no', 'No ', 'No', 'may be', 'May be'],\n",
              "      dtype=object)"
            ]
          },
          "metadata": {},
          "execution_count": 5
        }
      ]
    },
    {
      "cell_type": "code",
      "source": [
        "df.Cam = df.Cam.str.strip()\n",
        "df.loc[df.Cam == 'yes', 'Cam']    = 'Yes'\n",
        "df.loc[df.Cam == 'no', 'Cam']     = 'No'\n",
        "df.loc[df.Cam == 'may be', 'Cam'] = 'May Be'\n",
        "df.loc[df.Cam == 'May be', 'Cam'] = 'May Be'\n",
        "\n",
        "df.Police = df.Police.str.strip()\n",
        "df.loc[df.Police == 'no', 'Police']        = 'No'\n",
        "df.loc[df.Police == 'yes', 'Police']       = 'Yes'\n",
        "df.loc[df.Police == 'some time', 'Police'] = 'May Be'\n",
        "df.loc[df.Police == 'Sometime', 'Police']  = 'May Be'\n",
        "df.loc[df.Police == 'may be', 'Police']    = 'May Be'\n",
        "\n",
        "possible_list = {'Yes', 'No', 'May Be'}\n",
        "\n",
        "# check for Cam column\n",
        "if set(df.Cam.unique()) != possible_list :\n",
        "  print(\"Error in Cam column\", df.Cam.value_counts(), sep='\\n')\n",
        "else :\n",
        "  print(\"Cam    column : verified.\")\n",
        "# check for Police column\n",
        "if set(df.Police.unique()) != possible_list:\n",
        "  print(\"Error in Police column\", df.Police.value_counts(), sep='\\n')\n",
        "else :\n",
        "  print(\"Police column : verified.\")"
      ],
      "metadata": {
        "colab": {
          "base_uri": "https://localhost:8080/"
        },
        "id": "aRfjv2dZmoXO",
        "outputId": "e0d6331f-4bab-4a6e-fbaa-648905d4f73a"
      },
      "execution_count": 6,
      "outputs": [
        {
          "output_type": "stream",
          "name": "stdout",
          "text": [
            "Cam    column : verified.\n",
            "Police column : verified.\n"
          ]
        }
      ]
    },
    {
      "cell_type": "markdown",
      "source": [
        "##Change Category to value"
      ],
      "metadata": {
        "id": "WdJ_5lPbtOda"
      }
    },
    {
      "cell_type": "code",
      "source": [
        "index_val = {'Yes':2, 'May Be':1, 'No':0}\n",
        "\n",
        "def change_to_val(value):\n",
        "  return index_val[value]\n",
        "\n",
        "df.Cam    = df.Cam.apply(change_to_val)\n",
        "df.Police = df.Police.apply(change_to_val)"
      ],
      "metadata": {
        "id": "zZe_fl8Pmbhm"
      },
      "execution_count": 7,
      "outputs": []
    },
    {
      "cell_type": "code",
      "source": [
        "df"
      ],
      "metadata": {
        "colab": {
          "base_uri": "https://localhost:8080/",
          "height": 1000
        },
        "id": "_XWwoGlWmkQ2",
        "outputId": "202ca28a-2049-4fc6-f1ff-d1265141d516"
      },
      "execution_count": null,
      "outputs": [
        {
          "output_type": "execute_result",
          "data": {
            "text/plain": [
              "                                         Loc       Lng       Lat  Cam  Police  \\\n",
              "0                                  Bus Stand  76.40303  30.33879    2       2   \n",
              "1        Shri Aurobindo International School  76.40281  30.33832    2       2   \n",
              "2                      Saanjh Kendra Patiala  76.40539  30.33624    1       0   \n",
              "3                 Police Station Lahori Gate  76.40421  30.33667    2       2   \n",
              "4                              Sirhindi Gate  76.40699  30.33546    2       1   \n",
              "5                         PRTC Patiala Depot  76.40685  30.33493    2       0   \n",
              "6                     Ancient Hanuman Mandir  76.40821  30.33453    1       1   \n",
              "7                 Aggarsain Hospital Patiala  76.40872  30.33392    2       2   \n",
              "8                                SDKS Bhawan  76.40967  30.33307    2       1   \n",
              "9                            Pal petrol pump  76.41014  30.33214    0       1   \n",
              "10       Maruti Suzuki cars, hira automobile  76.41772  30.33115    2       0   \n",
              "11                           Hotel Eqbal Inn  76.41802  30.33256    2       2   \n",
              "12                     Hotel Uttam residency  76.42245  30.33296    2       0   \n",
              "13                  Kartar Singh oil company  76.42277  30.33404    0       0   \n",
              "14                    Tarsem furniture house  76.42619  30.33601    0       1   \n",
              "15             MPF Showroom, Amar tyre works  76.42708  30.33671    0       0   \n",
              "16      Harman Airconditioners Daikin Shoppe  76.42738  30.33731    1       0   \n",
              "17                          Jain Petrol Pump  76.42927  30.33853    1       0   \n",
              "18          Massy world(multibrand showroom)  76.43017  30.33873    2       0   \n",
              "19             Duroflex Store - Comfort Zone  76.43059  30.33913    0       0   \n",
              "20                          The grand square  76.43119  30.33914    2       0   \n",
              "21                           Ahuja Furniture  76.43191  30.34007    1       0   \n",
              "22                     Vardhman Janhit Rasoi  76.43225  30.34002    0       0   \n",
              "23                Vardhman Steels and Metals  76.43214  30.34031    2       0   \n",
              "24                               Burger King  76.43226  30.34091    2       0   \n",
              "25                            Verka milk bar  76.44173  30.34764    0       0   \n",
              "26                       Bypass flyover park  76.43713  30.34404    2       2   \n",
              "27             Vardhman Mahaveer Health Care  76.43724  30.34526    2       1   \n",
              "28  Barbeque Nation - Patiala - Urban Estate  76.43738  30.34536    1       1   \n",
              "29                         Atwal Petrol Pump  76.43821  30.34552    1       0   \n",
              "30               Baani Milk Producer Company  76.43749  30.34541    1       0   \n",
              "31                         Phase 2 Main road  76.44295  30.34814    1       1   \n",
              "32                            Peer ji dargah  76.44865  30.35244    0       1   \n",
              "33            Punjabi university (main gate)  76.45508  30.35691    2       2   \n",
              "34                     Patiala Guru Jindabad  76.40136  30.34129    2       2   \n",
              "35                            Prontha market  76.40286  30.34036    0       1   \n",
              "36                                Priti Oils  76.40381  30.34137    0       0   \n",
              "37                                   SBI ATM  76.40396  30.34174    2       0   \n",
              "38               PSPCL Sub Divisional Office  76.40472  30.34222    1       1   \n",
              "39                      sri shani dev mandir  76.40565  30.34388    0       0   \n",
              "40                     Office Food & Supply   76.40591  30.34362    0       0   \n",
              "41                       Sheetla Mata Mandir  76.40653  30.34611    0       0   \n",
              "42                                  Easy Day  76.41255  30.35145    0       0   \n",
              "43                             Hotel ontario  76.41257  30.35115    1       0   \n",
              "44           Diesel Loco Modernisation Works  76.41621  30.35506    1       0   \n",
              "45                           DMW post office  76.41901  30.35693    1       1   \n",
              "46                              DMW Hospital  76.41986  30.35714    2       1   \n",
              "47                              DMW Stadium   76.42252  30.35968    0       1   \n",
              "48                 Gurdawara Dashmesh Bhawan  76.42567  30.35479    1       1   \n",
              "49                         Mahadev Furniture  76.42612  30.35477    0       1   \n",
              "50                             Public Toilet  76.42759  30.35292    2       2   \n",
              "51                                Badi Nadhi  76.42768  30.35292    0       1   \n",
              "52                     Jashandeep cyber fuel  76.42898  30.35234    2       0   \n",
              "53                         Kakkar Tent House  76.42959  30.35078    2       1   \n",
              "54                        Hotel HD Residency  76.43044  30.35139    2       1   \n",
              "55                               Opera Ielts  76.43168  30.35245    1       0   \n",
              "56          St. Xaviers International School  76.43237  30.35325    0       2   \n",
              "57             Police Station (urban estate)  76.43543  30.35499    2       2   \n",
              "58                                  PDA Park  76.44283  30.35634    0       0   \n",
              "59                     Student's Parking lot  76.44595  30.35854    2       2   \n",
              "\n",
              "    Safety  \n",
              "0        4  \n",
              "1        4  \n",
              "2        1  \n",
              "3        4  \n",
              "4        3  \n",
              "5        2  \n",
              "6        2  \n",
              "7        4  \n",
              "8        3  \n",
              "9        1  \n",
              "10       2  \n",
              "11       4  \n",
              "12       2  \n",
              "13       0  \n",
              "14       1  \n",
              "15       0  \n",
              "16       1  \n",
              "17       1  \n",
              "18       2  \n",
              "19       0  \n",
              "20       2  \n",
              "21       1  \n",
              "22       0  \n",
              "23       2  \n",
              "24       2  \n",
              "25       0  \n",
              "26       4  \n",
              "27       3  \n",
              "28       2  \n",
              "29       1  \n",
              "30       1  \n",
              "31       2  \n",
              "32       1  \n",
              "33       4  \n",
              "34       4  \n",
              "35       1  \n",
              "36       0  \n",
              "37       2  \n",
              "38       2  \n",
              "39       0  \n",
              "40       0  \n",
              "41       0  \n",
              "42       0  \n",
              "43       1  \n",
              "44       1  \n",
              "45       2  \n",
              "46       3  \n",
              "47       1  \n",
              "48       2  \n",
              "49       1  \n",
              "50       4  \n",
              "51       1  \n",
              "52       2  \n",
              "53       3  \n",
              "54       3  \n",
              "55       1  \n",
              "56       3  \n",
              "57       4  \n",
              "58       0  \n",
              "59       4  "
            ],
            "text/html": [
              "\n",
              "  <div id=\"df-6d8a66de-307c-4a84-a887-958282c95b5f\">\n",
              "    <div class=\"colab-df-container\">\n",
              "      <div>\n",
              "<style scoped>\n",
              "    .dataframe tbody tr th:only-of-type {\n",
              "        vertical-align: middle;\n",
              "    }\n",
              "\n",
              "    .dataframe tbody tr th {\n",
              "        vertical-align: top;\n",
              "    }\n",
              "\n",
              "    .dataframe thead th {\n",
              "        text-align: right;\n",
              "    }\n",
              "</style>\n",
              "<table border=\"1\" class=\"dataframe\">\n",
              "  <thead>\n",
              "    <tr style=\"text-align: right;\">\n",
              "      <th></th>\n",
              "      <th>Loc</th>\n",
              "      <th>Lng</th>\n",
              "      <th>Lat</th>\n",
              "      <th>Cam</th>\n",
              "      <th>Police</th>\n",
              "      <th>Safety</th>\n",
              "    </tr>\n",
              "  </thead>\n",
              "  <tbody>\n",
              "    <tr>\n",
              "      <th>0</th>\n",
              "      <td>Bus Stand</td>\n",
              "      <td>76.40303</td>\n",
              "      <td>30.33879</td>\n",
              "      <td>2</td>\n",
              "      <td>2</td>\n",
              "      <td>4</td>\n",
              "    </tr>\n",
              "    <tr>\n",
              "      <th>1</th>\n",
              "      <td>Shri Aurobindo International School</td>\n",
              "      <td>76.40281</td>\n",
              "      <td>30.33832</td>\n",
              "      <td>2</td>\n",
              "      <td>2</td>\n",
              "      <td>4</td>\n",
              "    </tr>\n",
              "    <tr>\n",
              "      <th>2</th>\n",
              "      <td>Saanjh Kendra Patiala</td>\n",
              "      <td>76.40539</td>\n",
              "      <td>30.33624</td>\n",
              "      <td>1</td>\n",
              "      <td>0</td>\n",
              "      <td>1</td>\n",
              "    </tr>\n",
              "    <tr>\n",
              "      <th>3</th>\n",
              "      <td>Police Station Lahori Gate</td>\n",
              "      <td>76.40421</td>\n",
              "      <td>30.33667</td>\n",
              "      <td>2</td>\n",
              "      <td>2</td>\n",
              "      <td>4</td>\n",
              "    </tr>\n",
              "    <tr>\n",
              "      <th>4</th>\n",
              "      <td>Sirhindi Gate</td>\n",
              "      <td>76.40699</td>\n",
              "      <td>30.33546</td>\n",
              "      <td>2</td>\n",
              "      <td>1</td>\n",
              "      <td>3</td>\n",
              "    </tr>\n",
              "    <tr>\n",
              "      <th>5</th>\n",
              "      <td>PRTC Patiala Depot</td>\n",
              "      <td>76.40685</td>\n",
              "      <td>30.33493</td>\n",
              "      <td>2</td>\n",
              "      <td>0</td>\n",
              "      <td>2</td>\n",
              "    </tr>\n",
              "    <tr>\n",
              "      <th>6</th>\n",
              "      <td>Ancient Hanuman Mandir</td>\n",
              "      <td>76.40821</td>\n",
              "      <td>30.33453</td>\n",
              "      <td>1</td>\n",
              "      <td>1</td>\n",
              "      <td>2</td>\n",
              "    </tr>\n",
              "    <tr>\n",
              "      <th>7</th>\n",
              "      <td>Aggarsain Hospital Patiala</td>\n",
              "      <td>76.40872</td>\n",
              "      <td>30.33392</td>\n",
              "      <td>2</td>\n",
              "      <td>2</td>\n",
              "      <td>4</td>\n",
              "    </tr>\n",
              "    <tr>\n",
              "      <th>8</th>\n",
              "      <td>SDKS Bhawan</td>\n",
              "      <td>76.40967</td>\n",
              "      <td>30.33307</td>\n",
              "      <td>2</td>\n",
              "      <td>1</td>\n",
              "      <td>3</td>\n",
              "    </tr>\n",
              "    <tr>\n",
              "      <th>9</th>\n",
              "      <td>Pal petrol pump</td>\n",
              "      <td>76.41014</td>\n",
              "      <td>30.33214</td>\n",
              "      <td>0</td>\n",
              "      <td>1</td>\n",
              "      <td>1</td>\n",
              "    </tr>\n",
              "    <tr>\n",
              "      <th>10</th>\n",
              "      <td>Maruti Suzuki cars, hira automobile</td>\n",
              "      <td>76.41772</td>\n",
              "      <td>30.33115</td>\n",
              "      <td>2</td>\n",
              "      <td>0</td>\n",
              "      <td>2</td>\n",
              "    </tr>\n",
              "    <tr>\n",
              "      <th>11</th>\n",
              "      <td>Hotel Eqbal Inn</td>\n",
              "      <td>76.41802</td>\n",
              "      <td>30.33256</td>\n",
              "      <td>2</td>\n",
              "      <td>2</td>\n",
              "      <td>4</td>\n",
              "    </tr>\n",
              "    <tr>\n",
              "      <th>12</th>\n",
              "      <td>Hotel Uttam residency</td>\n",
              "      <td>76.42245</td>\n",
              "      <td>30.33296</td>\n",
              "      <td>2</td>\n",
              "      <td>0</td>\n",
              "      <td>2</td>\n",
              "    </tr>\n",
              "    <tr>\n",
              "      <th>13</th>\n",
              "      <td>Kartar Singh oil company</td>\n",
              "      <td>76.42277</td>\n",
              "      <td>30.33404</td>\n",
              "      <td>0</td>\n",
              "      <td>0</td>\n",
              "      <td>0</td>\n",
              "    </tr>\n",
              "    <tr>\n",
              "      <th>14</th>\n",
              "      <td>Tarsem furniture house</td>\n",
              "      <td>76.42619</td>\n",
              "      <td>30.33601</td>\n",
              "      <td>0</td>\n",
              "      <td>1</td>\n",
              "      <td>1</td>\n",
              "    </tr>\n",
              "    <tr>\n",
              "      <th>15</th>\n",
              "      <td>MPF Showroom, Amar tyre works</td>\n",
              "      <td>76.42708</td>\n",
              "      <td>30.33671</td>\n",
              "      <td>0</td>\n",
              "      <td>0</td>\n",
              "      <td>0</td>\n",
              "    </tr>\n",
              "    <tr>\n",
              "      <th>16</th>\n",
              "      <td>Harman Airconditioners Daikin Shoppe</td>\n",
              "      <td>76.42738</td>\n",
              "      <td>30.33731</td>\n",
              "      <td>1</td>\n",
              "      <td>0</td>\n",
              "      <td>1</td>\n",
              "    </tr>\n",
              "    <tr>\n",
              "      <th>17</th>\n",
              "      <td>Jain Petrol Pump</td>\n",
              "      <td>76.42927</td>\n",
              "      <td>30.33853</td>\n",
              "      <td>1</td>\n",
              "      <td>0</td>\n",
              "      <td>1</td>\n",
              "    </tr>\n",
              "    <tr>\n",
              "      <th>18</th>\n",
              "      <td>Massy world(multibrand showroom)</td>\n",
              "      <td>76.43017</td>\n",
              "      <td>30.33873</td>\n",
              "      <td>2</td>\n",
              "      <td>0</td>\n",
              "      <td>2</td>\n",
              "    </tr>\n",
              "    <tr>\n",
              "      <th>19</th>\n",
              "      <td>Duroflex Store - Comfort Zone</td>\n",
              "      <td>76.43059</td>\n",
              "      <td>30.33913</td>\n",
              "      <td>0</td>\n",
              "      <td>0</td>\n",
              "      <td>0</td>\n",
              "    </tr>\n",
              "    <tr>\n",
              "      <th>20</th>\n",
              "      <td>The grand square</td>\n",
              "      <td>76.43119</td>\n",
              "      <td>30.33914</td>\n",
              "      <td>2</td>\n",
              "      <td>0</td>\n",
              "      <td>2</td>\n",
              "    </tr>\n",
              "    <tr>\n",
              "      <th>21</th>\n",
              "      <td>Ahuja Furniture</td>\n",
              "      <td>76.43191</td>\n",
              "      <td>30.34007</td>\n",
              "      <td>1</td>\n",
              "      <td>0</td>\n",
              "      <td>1</td>\n",
              "    </tr>\n",
              "    <tr>\n",
              "      <th>22</th>\n",
              "      <td>Vardhman Janhit Rasoi</td>\n",
              "      <td>76.43225</td>\n",
              "      <td>30.34002</td>\n",
              "      <td>0</td>\n",
              "      <td>0</td>\n",
              "      <td>0</td>\n",
              "    </tr>\n",
              "    <tr>\n",
              "      <th>23</th>\n",
              "      <td>Vardhman Steels and Metals</td>\n",
              "      <td>76.43214</td>\n",
              "      <td>30.34031</td>\n",
              "      <td>2</td>\n",
              "      <td>0</td>\n",
              "      <td>2</td>\n",
              "    </tr>\n",
              "    <tr>\n",
              "      <th>24</th>\n",
              "      <td>Burger King</td>\n",
              "      <td>76.43226</td>\n",
              "      <td>30.34091</td>\n",
              "      <td>2</td>\n",
              "      <td>0</td>\n",
              "      <td>2</td>\n",
              "    </tr>\n",
              "    <tr>\n",
              "      <th>25</th>\n",
              "      <td>Verka milk bar</td>\n",
              "      <td>76.44173</td>\n",
              "      <td>30.34764</td>\n",
              "      <td>0</td>\n",
              "      <td>0</td>\n",
              "      <td>0</td>\n",
              "    </tr>\n",
              "    <tr>\n",
              "      <th>26</th>\n",
              "      <td>Bypass flyover park</td>\n",
              "      <td>76.43713</td>\n",
              "      <td>30.34404</td>\n",
              "      <td>2</td>\n",
              "      <td>2</td>\n",
              "      <td>4</td>\n",
              "    </tr>\n",
              "    <tr>\n",
              "      <th>27</th>\n",
              "      <td>Vardhman Mahaveer Health Care</td>\n",
              "      <td>76.43724</td>\n",
              "      <td>30.34526</td>\n",
              "      <td>2</td>\n",
              "      <td>1</td>\n",
              "      <td>3</td>\n",
              "    </tr>\n",
              "    <tr>\n",
              "      <th>28</th>\n",
              "      <td>Barbeque Nation - Patiala - Urban Estate</td>\n",
              "      <td>76.43738</td>\n",
              "      <td>30.34536</td>\n",
              "      <td>1</td>\n",
              "      <td>1</td>\n",
              "      <td>2</td>\n",
              "    </tr>\n",
              "    <tr>\n",
              "      <th>29</th>\n",
              "      <td>Atwal Petrol Pump</td>\n",
              "      <td>76.43821</td>\n",
              "      <td>30.34552</td>\n",
              "      <td>1</td>\n",
              "      <td>0</td>\n",
              "      <td>1</td>\n",
              "    </tr>\n",
              "    <tr>\n",
              "      <th>30</th>\n",
              "      <td>Baani Milk Producer Company</td>\n",
              "      <td>76.43749</td>\n",
              "      <td>30.34541</td>\n",
              "      <td>1</td>\n",
              "      <td>0</td>\n",
              "      <td>1</td>\n",
              "    </tr>\n",
              "    <tr>\n",
              "      <th>31</th>\n",
              "      <td>Phase 2 Main road</td>\n",
              "      <td>76.44295</td>\n",
              "      <td>30.34814</td>\n",
              "      <td>1</td>\n",
              "      <td>1</td>\n",
              "      <td>2</td>\n",
              "    </tr>\n",
              "    <tr>\n",
              "      <th>32</th>\n",
              "      <td>Peer ji dargah</td>\n",
              "      <td>76.44865</td>\n",
              "      <td>30.35244</td>\n",
              "      <td>0</td>\n",
              "      <td>1</td>\n",
              "      <td>1</td>\n",
              "    </tr>\n",
              "    <tr>\n",
              "      <th>33</th>\n",
              "      <td>Punjabi university (main gate)</td>\n",
              "      <td>76.45508</td>\n",
              "      <td>30.35691</td>\n",
              "      <td>2</td>\n",
              "      <td>2</td>\n",
              "      <td>4</td>\n",
              "    </tr>\n",
              "    <tr>\n",
              "      <th>34</th>\n",
              "      <td>Patiala Guru Jindabad</td>\n",
              "      <td>76.40136</td>\n",
              "      <td>30.34129</td>\n",
              "      <td>2</td>\n",
              "      <td>2</td>\n",
              "      <td>4</td>\n",
              "    </tr>\n",
              "    <tr>\n",
              "      <th>35</th>\n",
              "      <td>Prontha market</td>\n",
              "      <td>76.40286</td>\n",
              "      <td>30.34036</td>\n",
              "      <td>0</td>\n",
              "      <td>1</td>\n",
              "      <td>1</td>\n",
              "    </tr>\n",
              "    <tr>\n",
              "      <th>36</th>\n",
              "      <td>Priti Oils</td>\n",
              "      <td>76.40381</td>\n",
              "      <td>30.34137</td>\n",
              "      <td>0</td>\n",
              "      <td>0</td>\n",
              "      <td>0</td>\n",
              "    </tr>\n",
              "    <tr>\n",
              "      <th>37</th>\n",
              "      <td>SBI ATM</td>\n",
              "      <td>76.40396</td>\n",
              "      <td>30.34174</td>\n",
              "      <td>2</td>\n",
              "      <td>0</td>\n",
              "      <td>2</td>\n",
              "    </tr>\n",
              "    <tr>\n",
              "      <th>38</th>\n",
              "      <td>PSPCL Sub Divisional Office</td>\n",
              "      <td>76.40472</td>\n",
              "      <td>30.34222</td>\n",
              "      <td>1</td>\n",
              "      <td>1</td>\n",
              "      <td>2</td>\n",
              "    </tr>\n",
              "    <tr>\n",
              "      <th>39</th>\n",
              "      <td>sri shani dev mandir</td>\n",
              "      <td>76.40565</td>\n",
              "      <td>30.34388</td>\n",
              "      <td>0</td>\n",
              "      <td>0</td>\n",
              "      <td>0</td>\n",
              "    </tr>\n",
              "    <tr>\n",
              "      <th>40</th>\n",
              "      <td>Office Food &amp; Supply</td>\n",
              "      <td>76.40591</td>\n",
              "      <td>30.34362</td>\n",
              "      <td>0</td>\n",
              "      <td>0</td>\n",
              "      <td>0</td>\n",
              "    </tr>\n",
              "    <tr>\n",
              "      <th>41</th>\n",
              "      <td>Sheetla Mata Mandir</td>\n",
              "      <td>76.40653</td>\n",
              "      <td>30.34611</td>\n",
              "      <td>0</td>\n",
              "      <td>0</td>\n",
              "      <td>0</td>\n",
              "    </tr>\n",
              "    <tr>\n",
              "      <th>42</th>\n",
              "      <td>Easy Day</td>\n",
              "      <td>76.41255</td>\n",
              "      <td>30.35145</td>\n",
              "      <td>0</td>\n",
              "      <td>0</td>\n",
              "      <td>0</td>\n",
              "    </tr>\n",
              "    <tr>\n",
              "      <th>43</th>\n",
              "      <td>Hotel ontario</td>\n",
              "      <td>76.41257</td>\n",
              "      <td>30.35115</td>\n",
              "      <td>1</td>\n",
              "      <td>0</td>\n",
              "      <td>1</td>\n",
              "    </tr>\n",
              "    <tr>\n",
              "      <th>44</th>\n",
              "      <td>Diesel Loco Modernisation Works</td>\n",
              "      <td>76.41621</td>\n",
              "      <td>30.35506</td>\n",
              "      <td>1</td>\n",
              "      <td>0</td>\n",
              "      <td>1</td>\n",
              "    </tr>\n",
              "    <tr>\n",
              "      <th>45</th>\n",
              "      <td>DMW post office</td>\n",
              "      <td>76.41901</td>\n",
              "      <td>30.35693</td>\n",
              "      <td>1</td>\n",
              "      <td>1</td>\n",
              "      <td>2</td>\n",
              "    </tr>\n",
              "    <tr>\n",
              "      <th>46</th>\n",
              "      <td>DMW Hospital</td>\n",
              "      <td>76.41986</td>\n",
              "      <td>30.35714</td>\n",
              "      <td>2</td>\n",
              "      <td>1</td>\n",
              "      <td>3</td>\n",
              "    </tr>\n",
              "    <tr>\n",
              "      <th>47</th>\n",
              "      <td>DMW Stadium</td>\n",
              "      <td>76.42252</td>\n",
              "      <td>30.35968</td>\n",
              "      <td>0</td>\n",
              "      <td>1</td>\n",
              "      <td>1</td>\n",
              "    </tr>\n",
              "    <tr>\n",
              "      <th>48</th>\n",
              "      <td>Gurdawara Dashmesh Bhawan</td>\n",
              "      <td>76.42567</td>\n",
              "      <td>30.35479</td>\n",
              "      <td>1</td>\n",
              "      <td>1</td>\n",
              "      <td>2</td>\n",
              "    </tr>\n",
              "    <tr>\n",
              "      <th>49</th>\n",
              "      <td>Mahadev Furniture</td>\n",
              "      <td>76.42612</td>\n",
              "      <td>30.35477</td>\n",
              "      <td>0</td>\n",
              "      <td>1</td>\n",
              "      <td>1</td>\n",
              "    </tr>\n",
              "    <tr>\n",
              "      <th>50</th>\n",
              "      <td>Public Toilet</td>\n",
              "      <td>76.42759</td>\n",
              "      <td>30.35292</td>\n",
              "      <td>2</td>\n",
              "      <td>2</td>\n",
              "      <td>4</td>\n",
              "    </tr>\n",
              "    <tr>\n",
              "      <th>51</th>\n",
              "      <td>Badi Nadhi</td>\n",
              "      <td>76.42768</td>\n",
              "      <td>30.35292</td>\n",
              "      <td>0</td>\n",
              "      <td>1</td>\n",
              "      <td>1</td>\n",
              "    </tr>\n",
              "    <tr>\n",
              "      <th>52</th>\n",
              "      <td>Jashandeep cyber fuel</td>\n",
              "      <td>76.42898</td>\n",
              "      <td>30.35234</td>\n",
              "      <td>2</td>\n",
              "      <td>0</td>\n",
              "      <td>2</td>\n",
              "    </tr>\n",
              "    <tr>\n",
              "      <th>53</th>\n",
              "      <td>Kakkar Tent House</td>\n",
              "      <td>76.42959</td>\n",
              "      <td>30.35078</td>\n",
              "      <td>2</td>\n",
              "      <td>1</td>\n",
              "      <td>3</td>\n",
              "    </tr>\n",
              "    <tr>\n",
              "      <th>54</th>\n",
              "      <td>Hotel HD Residency</td>\n",
              "      <td>76.43044</td>\n",
              "      <td>30.35139</td>\n",
              "      <td>2</td>\n",
              "      <td>1</td>\n",
              "      <td>3</td>\n",
              "    </tr>\n",
              "    <tr>\n",
              "      <th>55</th>\n",
              "      <td>Opera Ielts</td>\n",
              "      <td>76.43168</td>\n",
              "      <td>30.35245</td>\n",
              "      <td>1</td>\n",
              "      <td>0</td>\n",
              "      <td>1</td>\n",
              "    </tr>\n",
              "    <tr>\n",
              "      <th>56</th>\n",
              "      <td>St. Xaviers International School</td>\n",
              "      <td>76.43237</td>\n",
              "      <td>30.35325</td>\n",
              "      <td>0</td>\n",
              "      <td>2</td>\n",
              "      <td>3</td>\n",
              "    </tr>\n",
              "    <tr>\n",
              "      <th>57</th>\n",
              "      <td>Police Station (urban estate)</td>\n",
              "      <td>76.43543</td>\n",
              "      <td>30.35499</td>\n",
              "      <td>2</td>\n",
              "      <td>2</td>\n",
              "      <td>4</td>\n",
              "    </tr>\n",
              "    <tr>\n",
              "      <th>58</th>\n",
              "      <td>PDA Park</td>\n",
              "      <td>76.44283</td>\n",
              "      <td>30.35634</td>\n",
              "      <td>0</td>\n",
              "      <td>0</td>\n",
              "      <td>0</td>\n",
              "    </tr>\n",
              "    <tr>\n",
              "      <th>59</th>\n",
              "      <td>Student's Parking lot</td>\n",
              "      <td>76.44595</td>\n",
              "      <td>30.35854</td>\n",
              "      <td>2</td>\n",
              "      <td>2</td>\n",
              "      <td>4</td>\n",
              "    </tr>\n",
              "  </tbody>\n",
              "</table>\n",
              "</div>\n",
              "      <button class=\"colab-df-convert\" onclick=\"convertToInteractive('df-6d8a66de-307c-4a84-a887-958282c95b5f')\"\n",
              "              title=\"Convert this dataframe to an interactive table.\"\n",
              "              style=\"display:none;\">\n",
              "        \n",
              "  <svg xmlns=\"http://www.w3.org/2000/svg\" height=\"24px\"viewBox=\"0 0 24 24\"\n",
              "       width=\"24px\">\n",
              "    <path d=\"M0 0h24v24H0V0z\" fill=\"none\"/>\n",
              "    <path d=\"M18.56 5.44l.94 2.06.94-2.06 2.06-.94-2.06-.94-.94-2.06-.94 2.06-2.06.94zm-11 1L8.5 8.5l.94-2.06 2.06-.94-2.06-.94L8.5 2.5l-.94 2.06-2.06.94zm10 10l.94 2.06.94-2.06 2.06-.94-2.06-.94-.94-2.06-.94 2.06-2.06.94z\"/><path d=\"M17.41 7.96l-1.37-1.37c-.4-.4-.92-.59-1.43-.59-.52 0-1.04.2-1.43.59L10.3 9.45l-7.72 7.72c-.78.78-.78 2.05 0 2.83L4 21.41c.39.39.9.59 1.41.59.51 0 1.02-.2 1.41-.59l7.78-7.78 2.81-2.81c.8-.78.8-2.07 0-2.86zM5.41 20L4 18.59l7.72-7.72 1.47 1.35L5.41 20z\"/>\n",
              "  </svg>\n",
              "      </button>\n",
              "      \n",
              "  <style>\n",
              "    .colab-df-container {\n",
              "      display:flex;\n",
              "      flex-wrap:wrap;\n",
              "      gap: 12px;\n",
              "    }\n",
              "\n",
              "    .colab-df-convert {\n",
              "      background-color: #E8F0FE;\n",
              "      border: none;\n",
              "      border-radius: 50%;\n",
              "      cursor: pointer;\n",
              "      display: none;\n",
              "      fill: #1967D2;\n",
              "      height: 32px;\n",
              "      padding: 0 0 0 0;\n",
              "      width: 32px;\n",
              "    }\n",
              "\n",
              "    .colab-df-convert:hover {\n",
              "      background-color: #E2EBFA;\n",
              "      box-shadow: 0px 1px 2px rgba(60, 64, 67, 0.3), 0px 1px 3px 1px rgba(60, 64, 67, 0.15);\n",
              "      fill: #174EA6;\n",
              "    }\n",
              "\n",
              "    [theme=dark] .colab-df-convert {\n",
              "      background-color: #3B4455;\n",
              "      fill: #D2E3FC;\n",
              "    }\n",
              "\n",
              "    [theme=dark] .colab-df-convert:hover {\n",
              "      background-color: #434B5C;\n",
              "      box-shadow: 0px 1px 3px 1px rgba(0, 0, 0, 0.15);\n",
              "      filter: drop-shadow(0px 1px 2px rgba(0, 0, 0, 0.3));\n",
              "      fill: #FFFFFF;\n",
              "    }\n",
              "  </style>\n",
              "\n",
              "      <script>\n",
              "        const buttonEl =\n",
              "          document.querySelector('#df-6d8a66de-307c-4a84-a887-958282c95b5f button.colab-df-convert');\n",
              "        buttonEl.style.display =\n",
              "          google.colab.kernel.accessAllowed ? 'block' : 'none';\n",
              "\n",
              "        async function convertToInteractive(key) {\n",
              "          const element = document.querySelector('#df-6d8a66de-307c-4a84-a887-958282c95b5f');\n",
              "          const dataTable =\n",
              "            await google.colab.kernel.invokeFunction('convertToInteractive',\n",
              "                                                     [key], {});\n",
              "          if (!dataTable) return;\n",
              "\n",
              "          const docLinkHtml = 'Like what you see? Visit the ' +\n",
              "            '<a target=\"_blank\" href=https://colab.research.google.com/notebooks/data_table.ipynb>data table notebook</a>'\n",
              "            + ' to learn more about interactive tables.';\n",
              "          element.innerHTML = '';\n",
              "          dataTable['output_type'] = 'display_data';\n",
              "          await google.colab.output.renderOutput(dataTable, element);\n",
              "          const docLink = document.createElement('div');\n",
              "          docLink.innerHTML = docLinkHtml;\n",
              "          element.appendChild(docLink);\n",
              "        }\n",
              "      </script>\n",
              "    </div>\n",
              "  </div>\n",
              "  "
            ]
          },
          "metadata": {},
          "execution_count": 203
        }
      ]
    },
    {
      "cell_type": "markdown",
      "source": [
        "# Model Data Splits"
      ],
      "metadata": {
        "id": "Fe19BuWhwPu1"
      }
    },
    {
      "cell_type": "markdown",
      "source": [
        "## Data split"
      ],
      "metadata": {
        "id": "3tpvkXkpwcOI"
      }
    },
    {
      "cell_type": "code",
      "source": [
        "x_test = df.iloc[:, 3:-1]\n",
        "y_test = df.iloc[:,-1]\n",
        "print('X',x_test.head(5), sep='\\n')\n",
        "print('Y',y_test.head(5), sep='\\n')"
      ],
      "metadata": {
        "colab": {
          "base_uri": "https://localhost:8080/"
        },
        "id": "zetHhiGvwhUs",
        "outputId": "dd614259-710d-4595-be57-4041a1ffad44"
      },
      "execution_count": 8,
      "outputs": [
        {
          "output_type": "stream",
          "name": "stdout",
          "text": [
            "X\n",
            "   Cam  Police\n",
            "0    2       2\n",
            "1    2       2\n",
            "2    1       0\n",
            "3    2       2\n",
            "4    2       1\n",
            "Y\n",
            "0    4\n",
            "1    4\n",
            "2    1\n",
            "3    4\n",
            "4    3\n",
            "Name: Safety, dtype: int64\n"
          ]
        }
      ]
    },
    {
      "cell_type": "markdown",
      "source": [
        "# Model"
      ],
      "metadata": {
        "id": "KvI_GFtlxQuA"
      }
    },
    {
      "cell_type": "code",
      "source": [
        "from sklearn.linear_model import LogisticRegression"
      ],
      "metadata": {
        "id": "a5uBTLbBw1lT"
      },
      "execution_count": 9,
      "outputs": []
    },
    {
      "cell_type": "code",
      "source": [
        "model = LogisticRegression(max_iter=1000)\n",
        "model.fit(x,y)"
      ],
      "metadata": {
        "colab": {
          "base_uri": "https://localhost:8080/",
          "height": 181
        },
        "id": "VMfhmg88xU4F",
        "outputId": "436d38ba-bf07-4801-8c42-3f6212437b8a"
      },
      "execution_count": 10,
      "outputs": [
        {
          "output_type": "error",
          "ename": "NameError",
          "evalue": "ignored",
          "traceback": [
            "\u001b[0;31m---------------------------------------------------------------------------\u001b[0m",
            "\u001b[0;31mNameError\u001b[0m                                 Traceback (most recent call last)",
            "\u001b[0;32m<ipython-input-10-833761a4061f>\u001b[0m in \u001b[0;36m<module>\u001b[0;34m()\u001b[0m\n\u001b[1;32m      1\u001b[0m \u001b[0mmodel\u001b[0m \u001b[0;34m=\u001b[0m \u001b[0mLogisticRegression\u001b[0m\u001b[0;34m(\u001b[0m\u001b[0mmax_iter\u001b[0m\u001b[0;34m=\u001b[0m\u001b[0;36m1000\u001b[0m\u001b[0;34m)\u001b[0m\u001b[0;34m\u001b[0m\u001b[0;34m\u001b[0m\u001b[0m\n\u001b[0;32m----> 2\u001b[0;31m \u001b[0mmodel\u001b[0m\u001b[0;34m.\u001b[0m\u001b[0mfit\u001b[0m\u001b[0;34m(\u001b[0m\u001b[0mx\u001b[0m\u001b[0;34m,\u001b[0m\u001b[0my\u001b[0m\u001b[0;34m)\u001b[0m\u001b[0;34m\u001b[0m\u001b[0;34m\u001b[0m\u001b[0m\n\u001b[0m",
            "\u001b[0;31mNameError\u001b[0m: name 'x' is not defined"
          ]
        }
      ]
    },
    {
      "cell_type": "code",
      "source": [
        "y_pred = model.predict([[0,0], [2,2], [0,2]])\n",
        "y_pred"
      ],
      "metadata": {
        "colab": {
          "base_uri": "https://localhost:8080/",
          "height": 358
        },
        "id": "K1uaE4e4xcHv",
        "outputId": "29f49b83-3531-42d0-e43c-1773b726994a"
      },
      "execution_count": 11,
      "outputs": [
        {
          "output_type": "error",
          "ename": "NotFittedError",
          "evalue": "ignored",
          "traceback": [
            "\u001b[0;31m---------------------------------------------------------------------------\u001b[0m",
            "\u001b[0;31mNotFittedError\u001b[0m                            Traceback (most recent call last)",
            "\u001b[0;32m<ipython-input-11-60748e5b9f92>\u001b[0m in \u001b[0;36m<module>\u001b[0;34m()\u001b[0m\n\u001b[0;32m----> 1\u001b[0;31m \u001b[0my_pred\u001b[0m \u001b[0;34m=\u001b[0m \u001b[0mmodel\u001b[0m\u001b[0;34m.\u001b[0m\u001b[0mpredict\u001b[0m\u001b[0;34m(\u001b[0m\u001b[0;34m[\u001b[0m\u001b[0;34m[\u001b[0m\u001b[0;36m0\u001b[0m\u001b[0;34m,\u001b[0m\u001b[0;36m0\u001b[0m\u001b[0;34m]\u001b[0m\u001b[0;34m,\u001b[0m \u001b[0;34m[\u001b[0m\u001b[0;36m2\u001b[0m\u001b[0;34m,\u001b[0m\u001b[0;36m2\u001b[0m\u001b[0;34m]\u001b[0m\u001b[0;34m,\u001b[0m \u001b[0;34m[\u001b[0m\u001b[0;36m0\u001b[0m\u001b[0;34m,\u001b[0m\u001b[0;36m2\u001b[0m\u001b[0;34m]\u001b[0m\u001b[0;34m]\u001b[0m\u001b[0;34m)\u001b[0m\u001b[0;34m\u001b[0m\u001b[0;34m\u001b[0m\u001b[0m\n\u001b[0m\u001b[1;32m      2\u001b[0m \u001b[0my_pred\u001b[0m\u001b[0;34m\u001b[0m\u001b[0;34m\u001b[0m\u001b[0m\n",
            "\u001b[0;32m/usr/local/lib/python3.7/dist-packages/sklearn/linear_model/_base.py\u001b[0m in \u001b[0;36mpredict\u001b[0;34m(self, X)\u001b[0m\n\u001b[1;32m    423\u001b[0m             \u001b[0mVector\u001b[0m \u001b[0mcontaining\u001b[0m \u001b[0mthe\u001b[0m \u001b[0;32mclass\u001b[0m \u001b[0mlabels\u001b[0m \u001b[0;32mfor\u001b[0m \u001b[0meach\u001b[0m \u001b[0msample\u001b[0m\u001b[0;34m.\u001b[0m\u001b[0;34m\u001b[0m\u001b[0;34m\u001b[0m\u001b[0m\n\u001b[1;32m    424\u001b[0m         \"\"\"\n\u001b[0;32m--> 425\u001b[0;31m         \u001b[0mscores\u001b[0m \u001b[0;34m=\u001b[0m \u001b[0mself\u001b[0m\u001b[0;34m.\u001b[0m\u001b[0mdecision_function\u001b[0m\u001b[0;34m(\u001b[0m\u001b[0mX\u001b[0m\u001b[0;34m)\u001b[0m\u001b[0;34m\u001b[0m\u001b[0;34m\u001b[0m\u001b[0m\n\u001b[0m\u001b[1;32m    426\u001b[0m         \u001b[0;32mif\u001b[0m \u001b[0mlen\u001b[0m\u001b[0;34m(\u001b[0m\u001b[0mscores\u001b[0m\u001b[0;34m.\u001b[0m\u001b[0mshape\u001b[0m\u001b[0;34m)\u001b[0m \u001b[0;34m==\u001b[0m \u001b[0;36m1\u001b[0m\u001b[0;34m:\u001b[0m\u001b[0;34m\u001b[0m\u001b[0;34m\u001b[0m\u001b[0m\n\u001b[1;32m    427\u001b[0m             \u001b[0mindices\u001b[0m \u001b[0;34m=\u001b[0m \u001b[0;34m(\u001b[0m\u001b[0mscores\u001b[0m \u001b[0;34m>\u001b[0m \u001b[0;36m0\u001b[0m\u001b[0;34m)\u001b[0m\u001b[0;34m.\u001b[0m\u001b[0mastype\u001b[0m\u001b[0;34m(\u001b[0m\u001b[0mint\u001b[0m\u001b[0;34m)\u001b[0m\u001b[0;34m\u001b[0m\u001b[0;34m\u001b[0m\u001b[0m\n",
            "\u001b[0;32m/usr/local/lib/python3.7/dist-packages/sklearn/linear_model/_base.py\u001b[0m in \u001b[0;36mdecision_function\u001b[0;34m(self, X)\u001b[0m\n\u001b[1;32m    403\u001b[0m             \u001b[0mthis\u001b[0m \u001b[0;32mclass\u001b[0m \u001b[0mwould\u001b[0m \u001b[0mbe\u001b[0m \u001b[0mpredicted\u001b[0m\u001b[0;34m.\u001b[0m\u001b[0;34m\u001b[0m\u001b[0;34m\u001b[0m\u001b[0m\n\u001b[1;32m    404\u001b[0m         \"\"\"\n\u001b[0;32m--> 405\u001b[0;31m         \u001b[0mcheck_is_fitted\u001b[0m\u001b[0;34m(\u001b[0m\u001b[0mself\u001b[0m\u001b[0;34m)\u001b[0m\u001b[0;34m\u001b[0m\u001b[0;34m\u001b[0m\u001b[0m\n\u001b[0m\u001b[1;32m    406\u001b[0m \u001b[0;34m\u001b[0m\u001b[0m\n\u001b[1;32m    407\u001b[0m         \u001b[0mX\u001b[0m \u001b[0;34m=\u001b[0m \u001b[0mself\u001b[0m\u001b[0;34m.\u001b[0m\u001b[0m_validate_data\u001b[0m\u001b[0;34m(\u001b[0m\u001b[0mX\u001b[0m\u001b[0;34m,\u001b[0m \u001b[0maccept_sparse\u001b[0m\u001b[0;34m=\u001b[0m\u001b[0;34m\"csr\"\u001b[0m\u001b[0;34m,\u001b[0m \u001b[0mreset\u001b[0m\u001b[0;34m=\u001b[0m\u001b[0;32mFalse\u001b[0m\u001b[0;34m)\u001b[0m\u001b[0;34m\u001b[0m\u001b[0;34m\u001b[0m\u001b[0m\n",
            "\u001b[0;32m/usr/local/lib/python3.7/dist-packages/sklearn/utils/validation.py\u001b[0m in \u001b[0;36mcheck_is_fitted\u001b[0;34m(estimator, attributes, msg, all_or_any)\u001b[0m\n\u001b[1;32m   1220\u001b[0m \u001b[0;34m\u001b[0m\u001b[0m\n\u001b[1;32m   1221\u001b[0m     \u001b[0;32mif\u001b[0m \u001b[0;32mnot\u001b[0m \u001b[0mfitted\u001b[0m\u001b[0;34m:\u001b[0m\u001b[0;34m\u001b[0m\u001b[0;34m\u001b[0m\u001b[0m\n\u001b[0;32m-> 1222\u001b[0;31m         \u001b[0;32mraise\u001b[0m \u001b[0mNotFittedError\u001b[0m\u001b[0;34m(\u001b[0m\u001b[0mmsg\u001b[0m \u001b[0;34m%\u001b[0m \u001b[0;34m{\u001b[0m\u001b[0;34m\"name\"\u001b[0m\u001b[0;34m:\u001b[0m \u001b[0mtype\u001b[0m\u001b[0;34m(\u001b[0m\u001b[0mestimator\u001b[0m\u001b[0;34m)\u001b[0m\u001b[0;34m.\u001b[0m\u001b[0m__name__\u001b[0m\u001b[0;34m}\u001b[0m\u001b[0;34m)\u001b[0m\u001b[0;34m\u001b[0m\u001b[0;34m\u001b[0m\u001b[0m\n\u001b[0m\u001b[1;32m   1223\u001b[0m \u001b[0;34m\u001b[0m\u001b[0m\n\u001b[1;32m   1224\u001b[0m \u001b[0;34m\u001b[0m\u001b[0m\n",
            "\u001b[0;31mNotFittedError\u001b[0m: This LogisticRegression instance is not fitted yet. Call 'fit' with appropriate arguments before using this estimator."
          ]
        }
      ]
    },
    {
      "cell_type": "code",
      "source": [
        "model.score(x,y)"
      ],
      "metadata": {
        "colab": {
          "base_uri": "https://localhost:8080/"
        },
        "id": "MS8z8B9yxrX-",
        "outputId": "4602810f-1d01-4c1c-e407-85f6a4f0cb9c"
      },
      "execution_count": null,
      "outputs": [
        {
          "output_type": "execute_result",
          "data": {
            "text/plain": [
              "0.7833333333333333"
            ]
          },
          "metadata": {},
          "execution_count": 173
        }
      ]
    },
    {
      "cell_type": "markdown",
      "source": [
        "# Model augmented"
      ],
      "metadata": {
        "id": "sQnU6bn1IZEI"
      }
    },
    {
      "cell_type": "code",
      "source": [
        "df_ag_path = os.path.join(os.getcwd(), 'augmented_rtis.csv')"
      ],
      "metadata": {
        "id": "Dh-xDatHx6Bp"
      },
      "execution_count": null,
      "outputs": []
    },
    {
      "cell_type": "code",
      "source": [
        "ag_df = pd.read_csv(df_ag_path, index_col=0)\n",
        "ag_df.Safety.value_counts()"
      ],
      "metadata": {
        "colab": {
          "base_uri": "https://localhost:8080/"
        },
        "id": "5sTyipANJq2S",
        "outputId": "cef23495-b88e-476a-f9e1-709ec3342a8b"
      },
      "execution_count": null,
      "outputs": [
        {
          "output_type": "execute_result",
          "data": {
            "text/plain": [
              "0    100\n",
              "1    100\n",
              "2    100\n",
              "4    100\n",
              "3     99\n",
              "Name: Safety, dtype: int64"
            ]
          },
          "metadata": {},
          "execution_count": 187
        }
      ]
    },
    {
      "cell_type": "code",
      "source": [
        "x = ag_df.iloc[:,:-1]\n",
        "y = ag_df.iloc[:,-1]\n",
        "print('X',x.head(5), sep='\\n')\n",
        "print('Y',y.head(5), sep='\\n')"
      ],
      "metadata": {
        "colab": {
          "base_uri": "https://localhost:8080/"
        },
        "id": "JZgeBeG2Iw-5",
        "outputId": "b84cb542-88bc-412e-d6de-a00a816a4d42"
      },
      "execution_count": null,
      "outputs": [
        {
          "output_type": "stream",
          "name": "stdout",
          "text": [
            "X\n",
            "   Cam  Police\n",
            "0    0       0\n",
            "1    0       0\n",
            "2    0       0\n",
            "3    0       0\n",
            "4    0       0\n",
            "Y\n",
            "0    0\n",
            "1    0\n",
            "2    0\n",
            "3    0\n",
            "4    0\n",
            "Name: Safety, dtype: int64\n"
          ]
        }
      ]
    },
    {
      "cell_type": "code",
      "source": [
        "from sklearn.linear_model import LogisticRegression\n",
        "from sklearn.metrics import accuracy_score\n",
        "import pickle"
      ],
      "metadata": {
        "id": "8ypghahtI8Qg"
      },
      "execution_count": null,
      "outputs": []
    },
    {
      "cell_type": "code",
      "source": [
        "model = LogisticRegression(max_iter=1000)\n",
        "model.fit(x,y)"
      ],
      "metadata": {
        "colab": {
          "base_uri": "https://localhost:8080/"
        },
        "id": "6tc7Tr4bJTB0",
        "outputId": "9a10ae09-42e4-4da9-8391-59cefa6bbe21"
      },
      "execution_count": null,
      "outputs": [
        {
          "output_type": "execute_result",
          "data": {
            "text/plain": [
              "LogisticRegression(max_iter=1000)"
            ]
          },
          "metadata": {},
          "execution_count": 193
        }
      ]
    },
    {
      "cell_type": "code",
      "source": [
        "y_pred = model.predict([[0,0], [2,2], [0,2]])\n",
        "y_pred"
      ],
      "metadata": {
        "colab": {
          "base_uri": "https://localhost:8080/"
        },
        "id": "J19e-sSHJU7T",
        "outputId": "9b854398-a4f7-4851-ba76-a7314b2393ac"
      },
      "execution_count": null,
      "outputs": [
        {
          "output_type": "stream",
          "name": "stderr",
          "text": [
            "/usr/local/lib/python3.7/dist-packages/sklearn/base.py:451: UserWarning: X does not have valid feature names, but LogisticRegression was fitted with feature names\n",
            "  \"X does not have valid feature names, but\"\n"
          ]
        },
        {
          "output_type": "execute_result",
          "data": {
            "text/plain": [
              "array([0, 4, 3])"
            ]
          },
          "metadata": {},
          "execution_count": 194
        }
      ]
    },
    {
      "cell_type": "code",
      "source": [
        "model.score(x,y)"
      ],
      "metadata": {
        "colab": {
          "base_uri": "https://localhost:8080/"
        },
        "id": "T_eE9mTrJXWN",
        "outputId": "40306c0f-71b4-488b-aaf5-986eb2335c85"
      },
      "execution_count": null,
      "outputs": [
        {
          "output_type": "execute_result",
          "data": {
            "text/plain": [
              "1.0"
            ]
          },
          "metadata": {},
          "execution_count": 195
        }
      ]
    },
    {
      "cell_type": "code",
      "source": [
        "accuracy_score(y_test, model.predict(x_test))"
      ],
      "metadata": {
        "colab": {
          "base_uri": "https://localhost:8080/"
        },
        "id": "iSscmCeIJX8N",
        "outputId": "19999217-1d7c-43d4-d5b9-bbcd59a5b487"
      },
      "execution_count": null,
      "outputs": [
        {
          "output_type": "execute_result",
          "data": {
            "text/plain": [
              "1.0"
            ]
          },
          "metadata": {},
          "execution_count": 205
        }
      ]
    },
    {
      "cell_type": "markdown",
      "source": [
        "# Save Model"
      ],
      "metadata": {
        "id": "ZoJg43GBLXAj"
      }
    },
    {
      "cell_type": "code",
      "source": [
        "filename = 'model_1.sav'\n",
        "pickle.dump(model, open(filename, 'wb'))"
      ],
      "metadata": {
        "id": "89i7v1G5LJcA"
      },
      "execution_count": null,
      "outputs": []
    },
    {
      "cell_type": "markdown",
      "source": [
        "# Load Model"
      ],
      "metadata": {
        "id": "rQOAJUYSMO-M"
      }
    },
    {
      "cell_type": "code",
      "source": [
        "# load the model from disk\n",
        "loaded_model = pickle.load(open(filename, 'rb'))\n",
        "result = loaded_model.score(x_test, y_test)\n",
        "print(result)"
      ],
      "metadata": {
        "colab": {
          "base_uri": "https://localhost:8080/"
        },
        "id": "nXNKXg8oLdDO",
        "outputId": "5d3f8dd1-52ca-44ab-df33-304348c6fe69"
      },
      "execution_count": null,
      "outputs": [
        {
          "output_type": "stream",
          "name": "stdout",
          "text": [
            "1.0\n"
          ]
        }
      ]
    },
    {
      "cell_type": "code",
      "source": [
        "loaded_model = pickle.load(open(filename, 'rb'))\n",
        "res = loaded_model.predict([[0,1,2]])\n"
      ],
      "metadata": {
        "id": "c6EX4QMnMM3e"
      },
      "execution_count": null,
      "outputs": []
    }
  ]
}